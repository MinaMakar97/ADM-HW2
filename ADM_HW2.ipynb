{
  "nbformat": 4,
  "nbformat_minor": 0,
  "metadata": {
    "application/vnd.databricks.v1+notebook": {
      "dashboards": [],
      "language": "python",
      "notebookMetadata": {
        "pythonIndentUnit": 2
      },
      "notebookName": "Classification",
      "notebookOrigID": 3966539020232142,
      "widgets": {}
    },
    "colab": {
      "name": "ADM HW2.ipynb",
      "provenance": [],
      "collapsed_sections": [],
      "machine_shape": "hm"
    },
    "kernelspec": {
      "display_name": "Python 3",
      "name": "python3"
    }
  },
  "cells": [
    {
      "cell_type": "code",
      "metadata": {
        "colab": {
          "base_uri": "https://localhost:8080/"
        },
        "id": "Hx932cVxi7x5",
        "outputId": "07d5b1ad-70a9-4f16-c328-bef68be01215"
      },
      "source": [
        "from google.colab import drive\n",
        "drive.mount('/content/drive/')"
      ],
      "execution_count": null,
      "outputs": [
        {
          "output_type": "stream",
          "name": "stdout",
          "text": [
            "Drive already mounted at /content/drive/; to attempt to forcibly remount, call drive.mount(\"/content/drive/\", force_remount=True).\n"
          ]
        }
      ]
    },
    {
      "cell_type": "code",
      "metadata": {
        "id": "NnCIn4qFjJmL"
      },
      "source": [
        "import pandas as pd\n",
        "import matplotlib.pyplot as plt\n",
        "import numpy as np"
      ],
      "execution_count": null,
      "outputs": []
    },
    {
      "cell_type": "code",
      "metadata": {
        "colab": {
          "base_uri": "https://localhost:8080/",
          "height": 485
        },
        "id": "446r2kFYjNab",
        "outputId": "ca006944-3a2b-446a-b8dc-659147fc8a16"
      },
      "source": [
        "df = pd.read_csv(\"/content/drive/MyDrive/hm/steam_reviews.csv\",usecols=[\"app_id\",\"app_name\",\"review_id\",\"language\",\"timestamp_created\",\"timestamp_updated\",\"recommended\",\"votes_helpful\",\"votes_funny\",\"weighted_vote_score\",\"comment_count\",\"steam_purchase\",\"received_for_free\",\"written_during_early_access\",\"author.steamid\",\"author.num_games_owned\",\"author.num_reviews\",\"author.playtime_forever\",\"author.playtime_last_two_weeks\",\"author.playtime_at_review\",\"author.last_played\"])\n",
        "df.head()"
      ],
      "execution_count": null,
      "outputs": [
        {
          "output_type": "execute_result",
          "data": {
            "text/html": [
              "<div>\n",
              "<style scoped>\n",
              "    .dataframe tbody tr th:only-of-type {\n",
              "        vertical-align: middle;\n",
              "    }\n",
              "\n",
              "    .dataframe tbody tr th {\n",
              "        vertical-align: top;\n",
              "    }\n",
              "\n",
              "    .dataframe thead th {\n",
              "        text-align: right;\n",
              "    }\n",
              "</style>\n",
              "<table border=\"1\" class=\"dataframe\">\n",
              "  <thead>\n",
              "    <tr style=\"text-align: right;\">\n",
              "      <th></th>\n",
              "      <th>app_id</th>\n",
              "      <th>app_name</th>\n",
              "      <th>review_id</th>\n",
              "      <th>language</th>\n",
              "      <th>timestamp_created</th>\n",
              "      <th>timestamp_updated</th>\n",
              "      <th>recommended</th>\n",
              "      <th>votes_helpful</th>\n",
              "      <th>votes_funny</th>\n",
              "      <th>weighted_vote_score</th>\n",
              "      <th>comment_count</th>\n",
              "      <th>steam_purchase</th>\n",
              "      <th>received_for_free</th>\n",
              "      <th>written_during_early_access</th>\n",
              "      <th>author.steamid</th>\n",
              "      <th>author.num_games_owned</th>\n",
              "      <th>author.num_reviews</th>\n",
              "      <th>author.playtime_forever</th>\n",
              "      <th>author.playtime_last_two_weeks</th>\n",
              "      <th>author.playtime_at_review</th>\n",
              "      <th>author.last_played</th>\n",
              "    </tr>\n",
              "  </thead>\n",
              "  <tbody>\n",
              "    <tr>\n",
              "      <th>0</th>\n",
              "      <td>292030</td>\n",
              "      <td>The Witcher 3: Wild Hunt</td>\n",
              "      <td>85185598</td>\n",
              "      <td>schinese</td>\n",
              "      <td>1611381629</td>\n",
              "      <td>1611381629</td>\n",
              "      <td>True</td>\n",
              "      <td>0</td>\n",
              "      <td>0</td>\n",
              "      <td>0.0</td>\n",
              "      <td>0</td>\n",
              "      <td>True</td>\n",
              "      <td>False</td>\n",
              "      <td>False</td>\n",
              "      <td>76561199095369542</td>\n",
              "      <td>6</td>\n",
              "      <td>2</td>\n",
              "      <td>1909.0</td>\n",
              "      <td>1448.0</td>\n",
              "      <td>1909.0</td>\n",
              "      <td>1.611343e+09</td>\n",
              "    </tr>\n",
              "    <tr>\n",
              "      <th>1</th>\n",
              "      <td>292030</td>\n",
              "      <td>The Witcher 3: Wild Hunt</td>\n",
              "      <td>85185250</td>\n",
              "      <td>schinese</td>\n",
              "      <td>1611381030</td>\n",
              "      <td>1611381030</td>\n",
              "      <td>True</td>\n",
              "      <td>0</td>\n",
              "      <td>0</td>\n",
              "      <td>0.0</td>\n",
              "      <td>0</td>\n",
              "      <td>True</td>\n",
              "      <td>False</td>\n",
              "      <td>False</td>\n",
              "      <td>76561198949504115</td>\n",
              "      <td>30</td>\n",
              "      <td>10</td>\n",
              "      <td>2764.0</td>\n",
              "      <td>2743.0</td>\n",
              "      <td>2674.0</td>\n",
              "      <td>1.611386e+09</td>\n",
              "    </tr>\n",
              "    <tr>\n",
              "      <th>2</th>\n",
              "      <td>292030</td>\n",
              "      <td>The Witcher 3: Wild Hunt</td>\n",
              "      <td>85185111</td>\n",
              "      <td>schinese</td>\n",
              "      <td>1611380800</td>\n",
              "      <td>1611380800</td>\n",
              "      <td>True</td>\n",
              "      <td>0</td>\n",
              "      <td>0</td>\n",
              "      <td>0.0</td>\n",
              "      <td>0</td>\n",
              "      <td>True</td>\n",
              "      <td>False</td>\n",
              "      <td>False</td>\n",
              "      <td>76561199090098988</td>\n",
              "      <td>5</td>\n",
              "      <td>1</td>\n",
              "      <td>1061.0</td>\n",
              "      <td>1061.0</td>\n",
              "      <td>1060.0</td>\n",
              "      <td>1.611384e+09</td>\n",
              "    </tr>\n",
              "    <tr>\n",
              "      <th>3</th>\n",
              "      <td>292030</td>\n",
              "      <td>The Witcher 3: Wild Hunt</td>\n",
              "      <td>85184605</td>\n",
              "      <td>english</td>\n",
              "      <td>1611379970</td>\n",
              "      <td>1611379970</td>\n",
              "      <td>True</td>\n",
              "      <td>0</td>\n",
              "      <td>0</td>\n",
              "      <td>0.0</td>\n",
              "      <td>0</td>\n",
              "      <td>True</td>\n",
              "      <td>False</td>\n",
              "      <td>False</td>\n",
              "      <td>76561199054755373</td>\n",
              "      <td>5</td>\n",
              "      <td>3</td>\n",
              "      <td>5587.0</td>\n",
              "      <td>3200.0</td>\n",
              "      <td>5524.0</td>\n",
              "      <td>1.611384e+09</td>\n",
              "    </tr>\n",
              "    <tr>\n",
              "      <th>4</th>\n",
              "      <td>292030</td>\n",
              "      <td>The Witcher 3: Wild Hunt</td>\n",
              "      <td>85184287</td>\n",
              "      <td>schinese</td>\n",
              "      <td>1611379427</td>\n",
              "      <td>1611379427</td>\n",
              "      <td>True</td>\n",
              "      <td>0</td>\n",
              "      <td>0</td>\n",
              "      <td>0.0</td>\n",
              "      <td>0</td>\n",
              "      <td>True</td>\n",
              "      <td>False</td>\n",
              "      <td>False</td>\n",
              "      <td>76561199028326951</td>\n",
              "      <td>7</td>\n",
              "      <td>4</td>\n",
              "      <td>217.0</td>\n",
              "      <td>42.0</td>\n",
              "      <td>217.0</td>\n",
              "      <td>1.610788e+09</td>\n",
              "    </tr>\n",
              "  </tbody>\n",
              "</table>\n",
              "</div>"
            ],
            "text/plain": [
              "   app_id  ... author.last_played\n",
              "0  292030  ...       1.611343e+09\n",
              "1  292030  ...       1.611386e+09\n",
              "2  292030  ...       1.611384e+09\n",
              "3  292030  ...       1.611384e+09\n",
              "4  292030  ...       1.610788e+09\n",
              "\n",
              "[5 rows x 21 columns]"
            ]
          },
          "metadata": {},
          "execution_count": 3
        }
      ]
    },
    {
      "cell_type": "code",
      "metadata": {
        "colab": {
          "base_uri": "https://localhost:8080/"
        },
        "id": "o3KXjmhzKv7v",
        "outputId": "74e0fbe7-f5ea-4ff1-831b-3cd772f16c05"
      },
      "source": [
        "df1 = pd.read_csv(\"/content/drive/MyDrive/ADM/HM2/steam_reviews_bonus_1.csv\",usecols=[\"app_id\",\"app_name\",\"review_id\",\"language\",\"timestamp_created\",\"timestamp_updated\",\"recommended\",\"votes_helpful\",\"votes_funny\",\"weighted_vote_score\",\"comment_count\",\"steam_purchase\",\"received_for_free\",\"written_during_early_access\",\"author.steamid\",\"author.num_games_owned\",\"author.num_reviews\",\"author.playtime_forever\",\"author.playtime_last_two_weeks\",\"author.playtime_at_review\",\"author.last_played\"])"
      ],
      "execution_count": null,
      "outputs": [
        {
          "output_type": "stream",
          "name": "stderr",
          "text": [
            "/usr/local/lib/python3.7/dist-packages/IPython/core/interactiveshell.py:2718: DtypeWarning: Columns (8,9,10,14,15,16) have mixed types.Specify dtype option on import or set low_memory=False.\n",
            "  interactivity=interactivity, compiler=compiler, result=result)\n"
          ]
        }
      ]
    },
    {
      "cell_type": "code",
      "metadata": {
        "colab": {
          "base_uri": "https://localhost:8080/"
        },
        "id": "kwgTXiT3LAgs",
        "outputId": "3bd61e88-aab5-4d06-86f3-b58fcee3d2b2"
      },
      "source": [
        "df2 = pd.read_csv(\"/content/drive/MyDrive/ADM/HM2/steam_reviews_bonus_2.csv\",usecols=[\"app_id\",\"app_name\",\"review_id\",\"language\",\"timestamp_created\",\"timestamp_updated\",\"recommended\",\"votes_helpful\",\"votes_funny\",\"weighted_vote_score\",\"comment_count\",\"steam_purchase\",\"received_for_free\",\"written_during_early_access\",\"author.steamid\",\"author.num_games_owned\",\"author.num_reviews\",\"author.playtime_forever\",\"author.playtime_last_two_weeks\",\"author.playtime_at_review\",\"author.last_played\"])"
      ],
      "execution_count": null,
      "outputs": [
        {
          "output_type": "stream",
          "name": "stderr",
          "text": [
            "/usr/local/lib/python3.7/dist-packages/IPython/core/interactiveshell.py:2718: DtypeWarning: Columns (8,9,10,14,15,16) have mixed types.Specify dtype option on import or set low_memory=False.\n",
            "  interactivity=interactivity, compiler=compiler, result=result)\n"
          ]
        }
      ]
    },
    {
      "cell_type": "code",
      "metadata": {
        "id": "drIH9DgkLZBf"
      },
      "source": [
        "lista = [df,df1,df2]\n",
        "df = pd.concat(lista)"
      ],
      "execution_count": null,
      "outputs": []
    },
    {
      "cell_type": "code",
      "metadata": {
        "colab": {
          "base_uri": "https://localhost:8080/"
        },
        "id": "2lCXS36JLz9g",
        "outputId": "e9d8c407-0ce9-48d7-c781-76c41dea33f6"
      },
      "source": [
        "# we use this code to delete df1 and df2 to free out the RAM\n",
        "del df1\n",
        "del df2\n",
        "import gc\n",
        "gc.collect()"
      ],
      "execution_count": null,
      "outputs": [
        {
          "output_type": "execute_result",
          "data": {
            "text/plain": [
              "99"
            ]
          },
          "metadata": {},
          "execution_count": 10
        }
      ]
    },
    {
      "cell_type": "markdown",
      "metadata": {
        "id": "75-GX6MRSUhV"
      },
      "source": [
        "# Data cleaning"
      ]
    },
    {
      "cell_type": "markdown",
      "metadata": {
        "id": "riCC8pabSq8B"
      },
      "source": [
        "Here we do a first cleaning of the data to make them more readable and usefull for the analysis "
      ]
    },
    {
      "cell_type": "code",
      "metadata": {
        "id": "O4NtrFii4-s1"
      },
      "source": [
        "# We found some empty rows with all the cells that have the value 1 so we delete them\n",
        "df.drop(df[df['app_id'] == 1.0].index , inplace = True)"
      ],
      "execution_count": null,
      "outputs": []
    },
    {
      "cell_type": "code",
      "metadata": {
        "id": "-qwkpimHsWSn"
      },
      "source": [
        "# We found some cells that have a boolean value (True/False) instead the app_name, so we delete these rows\n",
        "df.drop(df[df['app_name'].isin([\"True\",\"False\"])].index , inplace = True)"
      ],
      "execution_count": null,
      "outputs": []
    },
    {
      "cell_type": "code",
      "metadata": {
        "id": "pcFxpLjRSSts"
      },
      "source": [
        "# as we can see in timestamp_created we have 8 empty cell\n",
        "pd.isnull(df['timestamp_created']).value_counts()"
      ],
      "execution_count": null,
      "outputs": []
    },
    {
      "cell_type": "code",
      "metadata": {
        "id": "rNQoQwjsO2QJ"
      },
      "source": [
        "# we fill all the cells that have NA values in timestamp_created\n",
        "df['timestamp_created'] = df['timestamp_created'].fillna(0)\n",
        "df['timestamp_updated'] = df['timestamp_updated'].fillna(0)"
      ],
      "execution_count": null,
      "outputs": []
    },
    {
      "cell_type": "code",
      "metadata": {
        "id": "WwXdt05lXA4e"
      },
      "source": [
        "# the three dataset have different type values in timestamp_updated but we need only numeric values\n",
        "df['timestamp_updated'] = pd.to_numeric(df['timestamp_updated'] , errors='coerce')"
      ],
      "execution_count": null,
      "outputs": []
    },
    {
      "cell_type": "code",
      "metadata": {
        "id": "g44VS25P4Dkj"
      },
      "source": [
        "# we found a cell with weighted_vote_score > 1 but this value must be in the range [0,1] \n",
        "df[df['weighted_vote_score'] > 1] = 1\n",
        "# we also found some cells with NA values\n",
        "df['weighted_vote_score'] = df['weighted_vote_score'].fillna(0)"
      ],
      "execution_count": null,
      "outputs": []
    },
    {
      "cell_type": "code",
      "metadata": {
        "id": "REJmHn2qSmYc"
      },
      "source": [
        "# we found some strings in steam_purchase so we replace these with booleans values\n",
        "df[\"steam_purchase\"] = df[\"steam_purchase\"].replace([\"True\", \"False\"], [True, False])"
      ],
      "execution_count": null,
      "outputs": []
    },
    {
      "cell_type": "code",
      "metadata": {
        "id": "-_ptT5syIWP0"
      },
      "source": [
        "# We do the same thing of the previous step beacause in the column recommended we have some strings, and we would like to have booleans instead\n",
        "df[\"recommended\"] = df[\"recommended\"].replace([\"True\", \"False\"], [True, False])"
      ],
      "execution_count": null,
      "outputs": []
    },
    {
      "cell_type": "code",
      "metadata": {
        "id": "NrzIlVbkYLBs"
      },
      "source": [
        "# author.steamid must be an integer\n",
        "df['author.steamid'] = np.floor(pd.to_numeric(df['author.steamid'], errors='coerce')).astype('Int64')"
      ],
      "execution_count": null,
      "outputs": []
    },
    {
      "cell_type": "code",
      "metadata": {
        "id": "3EanowxuIP6Q"
      },
      "source": [
        "# We convert each cell in 'language' in a string, because with the 2 new dataset there are also integers values\n",
        "df['language'] = df['language'].astype(str)"
      ],
      "execution_count": null,
      "outputs": []
    },
    {
      "cell_type": "code",
      "metadata": {
        "colab": {
          "base_uri": "https://localhost:8080/"
        },
        "id": "QlN-gUOE4HqC",
        "outputId": "b166a0c2-c804-4a4c-fe75-848faeb8b74b"
      },
      "source": [
        "df.shape #We can clearly see that we are going to analyse a very biog dataset."
      ],
      "execution_count": null,
      "outputs": [
        {
          "data": {
            "text/plain": [
              "(38747379, 21)"
            ]
          },
          "execution_count": 13,
          "metadata": {},
          "output_type": "execute_result"
        }
      ]
    },
    {
      "cell_type": "markdown",
      "metadata": {
        "id": "r7_JmsvAeApd"
      },
      "source": [
        "#REQ 1"
      ]
    },
    {
      "cell_type": "markdown",
      "metadata": {
        "id": "IzZNDed5eoU0"
      },
      "source": [
        "In the follwing line we can see all the columns names, before the analysis it’s important to know and understand all the column of the dataset."
      ]
    },
    {
      "cell_type": "code",
      "metadata": {
        "colab": {
          "base_uri": "https://localhost:8080/"
        },
        "id": "n7K-ERexd_qu",
        "outputId": "17930b1c-6dc7-4298-b5bd-78121866b5c0"
      },
      "source": [
        "df.columns "
      ],
      "execution_count": null,
      "outputs": [
        {
          "output_type": "execute_result",
          "data": {
            "text/plain": [
              "Index(['app_id', 'app_name', 'review_id', 'language', 'timestamp_created',\n",
              "       'timestamp_updated', 'recommended', 'votes_helpful', 'votes_funny',\n",
              "       'weighted_vote_score', 'comment_count', 'steam_purchase',\n",
              "       'received_for_free', 'written_during_early_access', 'author.steamid',\n",
              "       'author.num_games_owned', 'author.num_reviews',\n",
              "       'author.playtime_forever', 'author.playtime_last_two_weeks',\n",
              "       'author.playtime_at_review', 'author.last_played'],\n",
              "      dtype='object')"
            ]
          },
          "metadata": {},
          "execution_count": 7
        }
      ]
    },
    {
      "cell_type": "code",
      "metadata": {
        "colab": {
          "base_uri": "https://localhost:8080/"
        },
        "id": "2NwQ8LS2JmMe",
        "outputId": "ef0d1c4f-e8e3-426a-fd9e-8a4f6bbd76ee"
      },
      "source": [
        "df.info() # We see all the differernt type of the columns"
      ],
      "execution_count": null,
      "outputs": [
        {
          "output_type": "stream",
          "name": "stdout",
          "text": [
            "<class 'pandas.core.frame.DataFrame'>\n",
            "Int64Index: 38747357 entries, 0 to 7000003\n",
            "Data columns (total 21 columns):\n",
            " #   Column                          Dtype  \n",
            "---  ------                          -----  \n",
            " 0   app_id                          float64\n",
            " 1   app_name                        object \n",
            " 2   review_id                       int64  \n",
            " 3   language                        object \n",
            " 4   timestamp_created               float64\n",
            " 5   timestamp_updated               object \n",
            " 6   recommended                     float64\n",
            " 7   votes_helpful                   float64\n",
            " 8   votes_funny                     float64\n",
            " 9   weighted_vote_score             float64\n",
            " 10  comment_count                   float64\n",
            " 11  steam_purchase                  object \n",
            " 12  received_for_free               object \n",
            " 13  written_during_early_access     object \n",
            " 14  author.steamid                  float64\n",
            " 15  author.num_games_owned          float64\n",
            " 16  author.num_reviews              float64\n",
            " 17  author.playtime_forever         float64\n",
            " 18  author.playtime_last_two_weeks  float64\n",
            " 19  author.playtime_at_review       float64\n",
            " 20  author.last_played              float64\n",
            "dtypes: float64(14), int64(1), object(6)\n",
            "memory usage: 6.4+ GB\n"
          ]
        }
      ]
    },
    {
      "cell_type": "markdown",
      "metadata": {
        "id": "IyBfgOjcaxU-"
      },
      "source": [
        "We want to analyse some interesting coloumns to have a better understaning of the dataset studied."
      ]
    },
    {
      "cell_type": "markdown",
      "metadata": {
        "id": "nf6PgzrnKnZP"
      },
      "source": [
        "## app_name / app_id"
      ]
    },
    {
      "cell_type": "code",
      "metadata": {
        "colab": {
          "base_uri": "https://localhost:8080/"
        },
        "id": "pHPpW4qeJ4f_",
        "outputId": "bf8c502d-0c1b-4294-edfc-10bea6da1917"
      },
      "source": [
        "len(df.groupby('app_name')['app_name'])"
      ],
      "execution_count": null,
      "outputs": [
        {
          "output_type": "execute_result",
          "data": {
            "text/plain": [
              "315"
            ]
          },
          "metadata": {},
          "execution_count": 41
        }
      ]
    },
    {
      "cell_type": "code",
      "metadata": {
        "colab": {
          "base_uri": "https://localhost:8080/"
        },
        "id": "7W9V10lDKAlH",
        "outputId": "e16efeb6-f568-428c-8d01-655afc414279"
      },
      "source": [
        "len(df.groupby('app_id')['app_id'])"
      ],
      "execution_count": null,
      "outputs": [
        {
          "output_type": "execute_result",
          "data": {
            "text/plain": [
              "315"
            ]
          },
          "metadata": {},
          "execution_count": 42
        }
      ]
    },
    {
      "cell_type": "markdown",
      "metadata": {
        "id": "xwKbwIVwKydx"
      },
      "source": [
        "There are 315 different apps_names and we checked that also the number of different app_id is the same."
      ]
    },
    {
      "cell_type": "markdown",
      "metadata": {
        "id": "Rc-GVJ3-RnOy"
      },
      "source": [
        "## weighted_vote_score"
      ]
    },
    {
      "cell_type": "code",
      "metadata": {
        "colab": {
          "base_uri": "https://localhost:8080/"
        },
        "id": "xp3C3oK8ToQm",
        "outputId": "2dccf007-e869-4c98-c8ff-727aa5fe1f38"
      },
      "source": [
        "df['weighted_vote_score'].describe() #the median and the mean are different"
      ],
      "execution_count": null,
      "outputs": [
        {
          "output_type": "execute_result",
          "data": {
            "text/plain": [
              "count    2.174737e+07\n",
              "mean     1.654424e-01\n",
              "std      2.434006e-01\n",
              "min      0.000000e+00\n",
              "25%      0.000000e+00\n",
              "50%      0.000000e+00\n",
              "75%      4.827586e-01\n",
              "max      9.959868e-01\n",
              "Name: weighted_vote_score, dtype: float64"
            ]
          },
          "metadata": {},
          "execution_count": 8
        }
      ]
    },
    {
      "cell_type": "markdown",
      "metadata": {
        "id": "ZFTfj52eePiZ"
      },
      "source": [
        "As we can see the mean and the median have different values; also thee median has a value equal to 0 that states that at least 50% of the reviews have a \"weighted vote score\" equal to zero "
      ]
    },
    {
      "cell_type": "code",
      "metadata": {
        "colab": {
          "base_uri": "https://localhost:8080/",
          "height": 609
        },
        "id": "gMDajYBqf8-D",
        "outputId": "1c379348-1cb6-4225-8504-8207694508ac"
      },
      "source": [
        "df.boxplot(column='weighted_vote_score',figsize=(10,10)) "
      ],
      "execution_count": null,
      "outputs": [
        {
          "output_type": "execute_result",
          "data": {
            "text/plain": [
              "<matplotlib.axes._subplots.AxesSubplot at 0x7f3af9277c10>"
            ]
          },
          "metadata": {},
          "execution_count": 9
        },
        {
          "output_type": "display_data",
          "data": {
            "image/png": "[encoded data removed]",
            "text/plain": [
              "<Figure size 720x720 with 1 Axes>"
            ]
          },
          "metadata": {
            "needs_background": "light"
          }
        }
      ]
    },
    {
      "cell_type": "markdown",
      "metadata": {
        "id": "jO5S4R_gRLxr"
      },
      "source": [
        "we can see that most of the values are very close to 0 as the median and the first quartile are equal to 0"
      ]
    },
    {
      "cell_type": "markdown",
      "metadata": {
        "id": "gwsTVtGMRslu"
      },
      "source": [
        "## votes_funny"
      ]
    },
    {
      "cell_type": "code",
      "metadata": {
        "colab": {
          "base_uri": "https://localhost:8080/"
        },
        "id": "rMc5tksehlZu",
        "outputId": "9c6b9abe-7f67-4547-bdf5-8c9b81816061"
      },
      "source": [
        "# Now we focus on the \"votes_funny\" feature\n",
        "df['votes_funny'].describe()"
      ],
      "execution_count": null,
      "outputs": [
        {
          "output_type": "execute_result",
          "data": {
            "text/plain": [
              "count    2.174737e+07\n",
              "mean     1.267917e+05\n",
              "std      2.333553e+07\n",
              "min      0.000000e+00\n",
              "25%      0.000000e+00\n",
              "50%      0.000000e+00\n",
              "75%      0.000000e+00\n",
              "max      4.294967e+09\n",
              "Name: votes_funny, dtype: float64"
            ]
          },
          "metadata": {},
          "execution_count": 10
        }
      ]
    },
    {
      "cell_type": "markdown",
      "metadata": {
        "id": "JJj-PNucfiyk"
      },
      "source": [
        "As we can see at least 75% of the reviews have neither one \"funny\" vote. But there are at most 25% of reviews that have a lot of \"funny\" votes that brings the mean of funny votes to 12679 votes."
      ]
    },
    {
      "cell_type": "markdown",
      "metadata": {
        "id": "x9UdYy2QLWJG"
      },
      "source": [
        "## language"
      ]
    },
    {
      "cell_type": "code",
      "metadata": {
        "colab": {
          "base_uri": "https://localhost:8080/"
        },
        "id": "PYwfJCYgLYUJ",
        "outputId": "41477e67-b427-44c1-cc80-64c5e1663008"
      },
      "source": [
        "df.groupby('language')['language'].indices.keys()# we see all the different languages that are in the dataset"
      ],
      "execution_count": null,
      "outputs": [
        {
          "output_type": "execute_result",
          "data": {
            "text/plain": [
              "dict_keys(['brazilian', 'bulgarian', 'czech', 'danish', 'dutch', 'english', 'finnish', 'french', 'german', 'greek', 'hungarian', 'italian', 'japanese', 'koreana', 'latam', 'norwegian', 'polish', 'portuguese', 'romanian', 'russian', 'schinese', 'spanish', 'swedish', 'tchinese', 'thai', 'turkish', 'ukrainian', 'vietnamese'])"
            ]
          },
          "metadata": {},
          "execution_count": 49
        }
      ]
    },
    {
      "cell_type": "code",
      "metadata": {
        "colab": {
          "base_uri": "https://localhost:8080/"
        },
        "id": "oqleYkceMf4Y",
        "outputId": "c8dc6e5c-71ab-4962-8c2f-9619ea56c596"
      },
      "source": [
        "len(df.groupby('language')['language'].indices.keys()) # as we can see there are different languages"
      ],
      "execution_count": null,
      "outputs": [
        {
          "output_type": "execute_result",
          "data": {
            "text/plain": [
              "28"
            ]
          },
          "metadata": {},
          "execution_count": 50
        }
      ]
    },
    {
      "cell_type": "markdown",
      "metadata": {
        "id": "ndXihs9XMyUl"
      },
      "source": [
        "## author.steamid"
      ]
    },
    {
      "cell_type": "code",
      "metadata": {
        "colab": {
          "base_uri": "https://localhost:8080/"
        },
        "id": "E2QMBWO4M05j",
        "outputId": "05d641ee-be7f-4fb5-a9dd-5d9fd53e1442"
      },
      "source": [
        "len(df.groupby('author.steamid')['author.steamid'].count()) #we can see the number of authors that have commented the apps in this dataset"
      ],
      "execution_count": null,
      "outputs": [
        {
          "output_type": "execute_result",
          "data": {
            "text/plain": [
              "16597048"
            ]
          },
          "metadata": {},
          "execution_count": 52
        }
      ]
    },
    {
      "cell_type": "markdown",
      "metadata": {
        "id": "GMe7uD2oRzJa"
      },
      "source": [
        "## steam_purchase"
      ]
    },
    {
      "cell_type": "code",
      "metadata": {
        "id": "7WSsk7NEMRNK"
      },
      "source": [
        "# We want to plot the percentage of purchased app but we consider only True and False values.\n",
        "r = df[df['steam_purchase'].isin([True,False])]['steam_purchase'].value_counts().reset_index()\n",
        "r['steam_purchase']= (r['steam_purchase'].divide(df.shape[0])*100).round(3)"
      ],
      "execution_count": null,
      "outputs": []
    },
    {
      "cell_type": "code",
      "metadata": {
        "id": "fBej6IWoPDTK",
        "colab": {
          "base_uri": "https://localhost:8080/",
          "height": 112
        },
        "outputId": "ba31e0ee-3cb4-47d1-e8cc-a196bedd4bfd"
      },
      "source": [
        "r"
      ],
      "execution_count": null,
      "outputs": [
        {
          "output_type": "execute_result",
          "data": {
            "text/html": [
              "<div>\n",
              "<style scoped>\n",
              "    .dataframe tbody tr th:only-of-type {\n",
              "        vertical-align: middle;\n",
              "    }\n",
              "\n",
              "    .dataframe tbody tr th {\n",
              "        vertical-align: top;\n",
              "    }\n",
              "\n",
              "    .dataframe thead th {\n",
              "        text-align: right;\n",
              "    }\n",
              "</style>\n",
              "<table border=\"1\" class=\"dataframe\">\n",
              "  <thead>\n",
              "    <tr style=\"text-align: right;\">\n",
              "      <th></th>\n",
              "      <th>index</th>\n",
              "      <th>steam_purchase</th>\n",
              "    </tr>\n",
              "  </thead>\n",
              "  <tbody>\n",
              "    <tr>\n",
              "      <th>0</th>\n",
              "      <td>True</td>\n",
              "      <td>77.446</td>\n",
              "    </tr>\n",
              "    <tr>\n",
              "      <th>1</th>\n",
              "      <td>False</td>\n",
              "      <td>22.554</td>\n",
              "    </tr>\n",
              "  </tbody>\n",
              "</table>\n",
              "</div>"
            ],
            "text/plain": [
              "   index  steam_purchase\n",
              "0   True          77.446\n",
              "1  False          22.554"
            ]
          },
          "metadata": {},
          "execution_count": 25
        }
      ]
    },
    {
      "cell_type": "code",
      "metadata": {
        "id": "d_hox39tNgjN",
        "colab": {
          "base_uri": "https://localhost:8080/",
          "height": 266
        },
        "outputId": "810224b5-5efb-40a0-b2cc-3824dde16a7e"
      },
      "source": [
        "r.plot(kind='pie', autopct='%1.1f%%', \n",
        " startangle=90, labels=['purchased','not purchased'], fontsize=14, y='steam_purchase',legend=None)"
      ],
      "execution_count": null,
      "outputs": [
        {
          "output_type": "execute_result",
          "data": {
            "text/plain": [
              "<matplotlib.axes._subplots.AxesSubplot at 0x7f37c7cba990>"
            ]
          },
          "metadata": {},
          "execution_count": 26
        },
        {
          "output_type": "display_data",
          "data": {
            "image/png": "[encoded data removed]",
            "text/plain": [
              "<Figure size 432x288 with 1 Axes>"
            ]
          },
          "metadata": {}
        }
      ]
    },
    {
      "cell_type": "markdown",
      "metadata": {
        "id": "L9b0vDoXR3z9"
      },
      "source": [
        "## recommended"
      ]
    },
    {
      "cell_type": "markdown",
      "metadata": {
        "id": "vTa-V4N9QM_5"
      },
      "source": [
        "As we can see the most of the reviwed app are purchased"
      ]
    },
    {
      "cell_type": "code",
      "metadata": {
        "id": "Nn1i-LhFl8R0"
      },
      "source": [
        "r = df['recommended'].value_counts().reset_index()\n",
        "r['recommended']= (r['recommended'].divide(df.shape[0])*100).round(3)"
      ],
      "execution_count": null,
      "outputs": []
    },
    {
      "cell_type": "code",
      "metadata": {
        "id": "K3VxXHl3zRqk",
        "colab": {
          "base_uri": "https://localhost:8080/",
          "height": 112
        },
        "outputId": "58a6e8c9-1a48-4243-da1e-75fb84caf4af"
      },
      "source": [
        "r"
      ],
      "execution_count": null,
      "outputs": [
        {
          "output_type": "execute_result",
          "data": {
            "text/html": [
              "<div>\n",
              "<style scoped>\n",
              "    .dataframe tbody tr th:only-of-type {\n",
              "        vertical-align: middle;\n",
              "    }\n",
              "\n",
              "    .dataframe tbody tr th {\n",
              "        vertical-align: top;\n",
              "    }\n",
              "\n",
              "    .dataframe thead th {\n",
              "        text-align: right;\n",
              "    }\n",
              "</style>\n",
              "<table border=\"1\" class=\"dataframe\">\n",
              "  <thead>\n",
              "    <tr style=\"text-align: right;\">\n",
              "      <th></th>\n",
              "      <th>index</th>\n",
              "      <th>recommended</th>\n",
              "    </tr>\n",
              "  </thead>\n",
              "  <tbody>\n",
              "    <tr>\n",
              "      <th>0</th>\n",
              "      <td>True</td>\n",
              "      <td>87.471</td>\n",
              "    </tr>\n",
              "    <tr>\n",
              "      <th>1</th>\n",
              "      <td>False</td>\n",
              "      <td>12.529</td>\n",
              "    </tr>\n",
              "  </tbody>\n",
              "</table>\n",
              "</div>"
            ],
            "text/plain": [
              "   index  recommended\n",
              "0   True       87.471\n",
              "1  False       12.529"
            ]
          },
          "metadata": {},
          "execution_count": 31
        }
      ]
    },
    {
      "cell_type": "code",
      "metadata": {
        "id": "UsVDtYllqJzZ",
        "colab": {
          "base_uri": "https://localhost:8080/",
          "height": 266
        },
        "outputId": "5fe9ccf8-3c1e-49d3-8440-a1b75da6182b"
      },
      "source": [
        "# Now we want to plot the percentage of review that are recommended \n",
        "r.plot(kind='pie', autopct='%1.1f%%', \n",
        " startangle=90, labels=['recommended','not recommended'], fontsize=14, y=\"recommended\", legend=None)"
      ],
      "execution_count": null,
      "outputs": [
        {
          "output_type": "execute_result",
          "data": {
            "text/plain": [
              "<matplotlib.axes._subplots.AxesSubplot at 0x7f37c7879690>"
            ]
          },
          "metadata": {},
          "execution_count": 35
        },
        {
          "output_type": "display_data",
          "data": {
            "image/png": "[encoded data removed]",
            "text/plain": [
              "<Figure size 432x288 with 1 Axes>"
            ]
          },
          "metadata": {}
        }
      ]
    },
    {
      "cell_type": "markdown",
      "metadata": {
        "id": "w8yfqfwVQpWb"
      },
      "source": [
        "Most of the the app that are reviewed are recommended\n"
      ]
    },
    {
      "cell_type": "markdown",
      "metadata": {
        "id": "Wntv69xwYBdO"
      },
      "source": [
        "#REQ 2"
      ]
    },
    {
      "cell_type": "markdown",
      "metadata": {
        "id": "CMBqkwcgZd-y"
      },
      "source": [
        "##REQ 2.1"
      ]
    },
    {
      "cell_type": "code",
      "metadata": {
        "colab": {
          "base_uri": "https://localhost:8080/",
          "height": 726
        },
        "id": "i57I8dQvZiDl",
        "outputId": "0ba9fa4d-7a10-47ba-e19e-508cc5d1a7b2"
      },
      "source": [
        "# We take app_name column and we use value_counts which returns the number of times that the app appears in descending \n",
        "# order.\n",
        "# Then we use reset_index beacause with the command value_count we lost the indexes, so we need to restore them beacuse we\n",
        "# are going to plot the result, finally we take the first 10 values and we plot them.\n",
        "d = df['app_name'].value_counts().reset_index(name='count')[:10]\n",
        "print(d)\n",
        "d.plot(kind=\"bar\", figsize=(10,5),x = 'index',y='count')"
      ],
      "execution_count": null,
      "outputs": [
        {
          "output_type": "stream",
          "name": "stdout",
          "text": [
            "                            index    count\n",
            "0   PLAYERUNKNOWN'S BATTLEGROUNDS  3288510\n",
            "1              Grand Theft Auto V  2038232\n",
            "2  Tom Clancy's Rainbow Six Siege  1683836\n",
            "3                     Garry's Mod  1311048\n",
            "4                            Rust  1098148\n",
            "5                   Rocket League   997131\n",
            "6                        Among Us   970586\n",
            "7        The Witcher 3: Wild Hunt   938790\n",
            "8                Dead by Daylight   837794\n",
            "9           ARK: Survival Evolved   800018\n"
          ]
        },
        {
          "output_type": "execute_result",
          "data": {
            "text/plain": [
              "<matplotlib.axes._subplots.AxesSubplot at 0x7ff5f2f1e890>"
            ]
          },
          "metadata": {},
          "execution_count": 73
        },
        {
          "output_type": "display_data",
          "data": {
            "image/png": "[encoded data removed]",
            "text/plain": [
              "<Figure size 720x360 with 1 Axes>"
            ]
          },
          "metadata": {
            "needs_background": "light"
          }
        }
      ]
    },
    {
      "cell_type": "markdown",
      "metadata": {
        "id": "eF2aVt96MaBX"
      },
      "source": [
        "From this analysis it is clear that the game most reviwed is **PUBG** and the second one is **GTA V**"
      ]
    },
    {
      "cell_type": "markdown",
      "metadata": {
        "id": "FquGxQgR8uhi"
      },
      "source": [
        "## REQ 2.2"
      ]
    },
    {
      "cell_type": "code",
      "metadata": {
        "colab": {
          "base_uri": "https://localhost:8080/"
        },
        "id": "E6qkA4KQ8MgX",
        "outputId": "297cafef-f71b-48db-8ed2-cf0da2b78e08"
      },
      "source": [
        "# We take the weighted vote scores grouped by app_name and we compute the mean,\n",
        "# then we sort them in decreasing order by printing the highest mean and their respective app.\n",
        "# we use two filter to skip the booleans values and the integer values.\n",
        "df[(df['app_name'].str.len() > 1) & (~df['app_name'].isin([\"True\",\"False\"]))].groupby(['app_name'])[\"weighted_vote_score\"]\\\n",
        ".mean().sort_values(ascending = False).head()"
      ],
      "execution_count": null,
      "outputs": [
        {
          "output_type": "execute_result",
          "data": {
            "text/plain": [
              "app_name\n",
              "Hunt Down The Freeman    0.502150\n",
              "Urban Empire             0.438623\n",
              "METAL GEAR SURVIVE       0.421632\n",
              "Identity                 0.415384\n",
              "Umbrella Corps           0.414678\n",
              "Name: weighted_vote_score, dtype: float64"
            ]
          },
          "metadata": {},
          "execution_count": 74
        }
      ]
    },
    {
      "cell_type": "markdown",
      "metadata": {
        "id": "BvsZOiZ2E_Lh"
      },
      "source": [
        "Above we can see tha app with the major mean of `weighted_vote_score`. The first one is Hunt Down The Freeman. "
      ]
    },
    {
      "cell_type": "markdown",
      "metadata": {
        "id": "sxhpfvAd8ncr"
      },
      "source": [
        "## REQ 2.3"
      ]
    },
    {
      "cell_type": "code",
      "metadata": {
        "id": "LEDx2M1RA2PF"
      },
      "source": [
        "# we modified the column reccomended, we replace \"True\" with 1 and \"False with \"0\" \n",
        "#in such away to sum the values and obtain the result of the numbers of reccomended\n",
        "df[\"recommended\"] = df[\"recommended\"].replace([True, False], [1, 0])"
      ],
      "execution_count": null,
      "outputs": []
    },
    {
      "cell_type": "code",
      "metadata": {
        "colab": {
          "base_uri": "https://localhost:8080/"
        },
        "id": "AJXkSEnRfbaN",
        "outputId": "54a5d767-d6eb-400b-fc89-e7ffec22fc65"
      },
      "source": [
        "# we group by 'app_id' and we sum the values in the column reccomended to obtain the number of reccomended\n",
        "count = df[['app_id','recommended']].groupby(['app_id']).sum().sort_values('recommended',ascending=False).reset_index()\n",
        "# to select the max we take the first element in \"count\" because sort_values returns a dataframe in descending order \n",
        "max = count.iloc[0]\n",
        "# to select the min we take the last element in \"count\"\n",
        "min = count.iloc[-1]\n",
        "print('the max', \"app_id:\",max[\"app_id\"], \"number of recommendations:\", max[\"recommended\"])\n",
        "print('the min',  \"app_id:\",min[\"app_id\"], \"number of recommendations:\",min[\"recommended\"])"
      ],
      "execution_count": null,
      "outputs": [
        {
          "output_type": "stream",
          "name": "stdout",
          "text": [
            "the max app_id: 578080.0 number of recommendations: 1772834.0\n",
            "the min app_id: 454200.0 number of recommendations: 178.0\n"
          ]
        }
      ]
    },
    {
      "cell_type": "markdown",
      "metadata": {
        "id": "N6Wh9omx3RiO"
      },
      "source": [
        "## REQ 2.4"
      ]
    },
    {
      "cell_type": "markdown",
      "metadata": {
        "id": "CVFvpyfnvMAa"
      },
      "source": [
        "In this REQ, we interpreted 'How many of these applications were purchased, and how many were given for free?' that we must consider the apps of the previous requirement (REQ 2.3) namely the apps that have the most and the least recommendations  "
      ]
    },
    {
      "cell_type": "code",
      "metadata": {
        "colab": {
          "base_uri": "https://localhost:8080/"
        },
        "id": "yw-9eKmW3USD",
        "outputId": "4b6ff5ed-944f-43cf-d3a4-de9da29757b6"
      },
      "source": [
        "# numbers of applications were purchased, \n",
        "# without considering that the user may have commented on the same app more than once\n",
        "print('number purchased:',df[((df['app_id'] == max[\"app_id\"]) | (df['app_id'] == min[\"app_id\"]) ) & (df['steam_purchase'] == True)].groupby('app_name')['steam_purchase']\\\n",
        ".value_counts().reset_index(name='count')[['app_name','count']])\n",
        "\n",
        "print('number got for free:',df[((df['app_id'] == max[\"app_id\"]) | (df['app_id'] == min[\"app_id\"]) ) & (df['steam_purchase'] == False)].groupby('app_name')['steam_purchase']\\\n",
        ".value_counts().reset_index(name='count')[['app_name','count']])"
      ],
      "execution_count": null,
      "outputs": [
        {
          "output_type": "stream",
          "name": "stdout",
          "text": [
            "number purchased:                         app_name    count\n",
            "0                 Neon Hardcorps      193\n",
            "1  PLAYERUNKNOWN'S BATTLEGROUNDS  2627528\n",
            "number got for free:                         app_name   count\n",
            "0                 Neon Hardcorps     207\n",
            "1  PLAYERUNKNOWN'S BATTLEGROUNDS  595448\n"
          ]
        }
      ]
    },
    {
      "cell_type": "code",
      "metadata": {
        "colab": {
          "base_uri": "https://localhost:8080/"
        },
        "id": "cHAfacAtlv7n",
        "outputId": "b1a32a66-7023-4844-ebf9-35bd103da39e"
      },
      "source": [
        "#considering that the user may have commented on the same app more than once, so let's take the precise number bought\n",
        "print(df[df['app_id'] == max[\"app_id\"]]['app_name'].values[0] ,'number purchased:',\\\n",
        "      len(df[(df['app_id'] == max[\"app_id\"])  & (df['steam_purchase'] == True)].groupby('author.steamid'))\\\n",
        "     )\n",
        "print(df[df['app_id'] == max[\"app_id\"]]['app_name'].values[0], 'number get for free:',\\\n",
        "      len(df[(df['app_id'] == max[\"app_id\"])  & (df['steam_purchase'] == False)].groupby('author.steamid'))\\\n",
        "     )\n",
        "\n",
        "print(df[df['app_id'] == min[\"app_id\"]]['app_name'].values[0],'number purchased:',\\\n",
        "      len(df[(df['app_id'] == min[\"app_id\"])  & (df['steam_purchase'] == True)].groupby('author.steamid'))\\\n",
        "     )\n",
        "print(df[df['app_id'] == min[\"app_id\"]]['app_name'].values[0], 'number get for free:',\\\n",
        "      len(df[(df['app_id'] == min[\"app_id\"])  & (df['steam_purchase'] == False)].groupby('author.steamid'))\\\n",
        "     )"
      ],
      "execution_count": null,
      "outputs": [
        {
          "output_type": "stream",
          "name": "stdout",
          "text": [
            "PLAYERUNKNOWN'S BATTLEGROUNDS number purchased: 2490873\n",
            "PLAYERUNKNOWN'S BATTLEGROUNDS number get for free: 586666\n",
            "Neon Hardcorps number purchased: 193\n",
            "Neon Hardcorps number get for free: 207\n"
          ]
        }
      ]
    },
    {
      "cell_type": "markdown",
      "metadata": {
        "id": "b4LPIreVlTvs"
      },
      "source": [
        "as we can see there is a noticeable difference between the 2 blocks, so a user can comment on the same app more than once(PLAYERUNKNOWN'S BATTLEGROUNDS)"
      ]
    },
    {
      "cell_type": "markdown",
      "metadata": {
        "id": "CzSkCg6iYSo_"
      },
      "source": [
        "# REQ 3"
      ]
    },
    {
      "cell_type": "markdown",
      "metadata": {
        "id": "tXsKAI1LAdGu"
      },
      "source": [
        "##REQ 3.1"
      ]
    },
    {
      "cell_type": "code",
      "metadata": {
        "id": "rXQ3--uOPAVK"
      },
      "source": [
        "#we convert the timestamp to datetime\n",
        "df['hour'] = pd.to_datetime(df['timestamp_created'],unit='s')"
      ],
      "execution_count": null,
      "outputs": []
    },
    {
      "cell_type": "code",
      "metadata": {
        "id": "KPpQp6bbPr2A"
      },
      "source": [
        "# we create a new column with only the hours and the minutes\n",
        "df['time'] = df['hour'].dt.time.astype(str).str[:-3]"
      ],
      "execution_count": null,
      "outputs": []
    },
    {
      "cell_type": "code",
      "metadata": {
        "colab": {
          "base_uri": "https://localhost:8080/",
          "height": 35
        },
        "id": "36aTaOX9Abtu",
        "outputId": "732550fe-6b61-456b-e2a5-a4ce8076b269"
      },
      "source": [
        "#we use value_counts which return the number of times in decreasing order that every hour appears and then we take only the first one \n",
        "df['time'].value_counts().index[0]"
      ],
      "execution_count": null,
      "outputs": [
        {
          "data": {
            "application/vnd.google.colaboratory.intrinsic+json": {
              "type": "string"
            },
            "text/plain": [
              "'14:50'"
            ]
          },
          "execution_count": 19,
          "metadata": {},
          "output_type": "execute_result"
        }
      ]
    },
    {
      "cell_type": "markdown",
      "metadata": {
        "id": "jOP-3prv-tFS"
      },
      "source": [
        "As we can see it is really common to review after lunch"
      ]
    },
    {
      "cell_type": "markdown",
      "metadata": {
        "id": "mKf3UGTI0Mgg"
      },
      "source": [
        "##REQ 3.2"
      ]
    },
    {
      "cell_type": "code",
      "metadata": {
        "id": "Q2mZ4jiHAbxd"
      },
      "source": [
        "# the function below returns a plot with the number of reviews for the interval of time in input\n",
        "import datetime\n",
        "def number_review(list_interval):\n",
        "  count_review = []\n",
        "  for start,end in list_interval:\n",
        "    # we convert start and end to datetime\n",
        "    start = datetime.datetime.strptime(start, '%H:%M:%S').time()\n",
        "    end = datetime.datetime.strptime(end, '%H:%M:%S').time()\n",
        "    # we select only the rows in the interval and we count them \n",
        "    temp = df.loc[(df['time'] > start) & (df['time'] < end)].count()[0]\n",
        "    count_review.append(temp)\n",
        "  # we transform the list of tuples in a list of strings\n",
        "  time = list(map(str,list_interval))\n",
        "  # we plot the result \n",
        "  plt.xticks(rotation='vertical')\n",
        "  plt.bar(time, count_review, color='b', align='center')"
      ],
      "execution_count": null,
      "outputs": []
    },
    {
      "cell_type": "markdown",
      "metadata": {
        "id": "yxStZCbA09lX"
      },
      "source": [
        "## REQ 3.3"
      ]
    },
    {
      "cell_type": "code",
      "metadata": {
        "id": "g4MCqpp81Awh"
      },
      "source": [
        "# We create a new column which contains only the time, then we call the function(number_review) with the list_interval\n",
        "df['time'] = df['hour'].dt.time\n",
        "list_interval=[(\"06:00:00\",\"10:59:59\"),(\"11:00:00\",\"13:59:59\"),(\"14:00:00\",\"16:59:59\"),(\"17:00:00\",\"19:59:59\"),(\"20:00:00\",\"23:59:59\"),(\"00:00:00\",\"02:59:59\"),(\"03:00:00\",\"05:59:59\")]"
      ],
      "execution_count": null,
      "outputs": []
    },
    {
      "cell_type": "code",
      "metadata": {
        "id": "kI3X7Q8XYvKQ"
      },
      "source": [
        "# we delete the column \"hour\"\n",
        "del df['hour']"
      ],
      "execution_count": null,
      "outputs": []
    },
    {
      "cell_type": "code",
      "metadata": {
        "colab": {
          "base_uri": "https://localhost:8080/",
          "height": 381
        },
        "id": "2-3AKoQD18sB",
        "outputId": "94d5f3a8-7ae9-42bf-c0ec-ba6c546fa056"
      },
      "source": [
        "# call the function number_review which return the plot \n",
        "number_review(list_interval)"
      ],
      "execution_count": null,
      "outputs": [
        {
          "data": {
            "image/png": "[encoded data removed]",
            "text/plain": [
              "<Figure size 432x288 with 1 Axes>"
            ]
          },
          "metadata": {},
          "output_type": "display_data"
        }
      ]
    },
    {
      "cell_type": "markdown",
      "metadata": {
        "id": "K3vVWGF3YcPg"
      },
      "source": [
        "#REQ 4"
      ]
    },
    {
      "cell_type": "markdown",
      "metadata": {
        "id": "oBFv6zomxBKu"
      },
      "source": [
        "## REQ 4.1"
      ]
    },
    {
      "cell_type": "markdown",
      "metadata": {
        "id": "FvT4LCQsQ9u7"
      },
      "source": [
        "In this exercise we select the 3 languages that appears the most"
      ]
    },
    {
      "cell_type": "code",
      "metadata": {
        "colab": {
          "base_uri": "https://localhost:8080/"
        },
        "id": "YzynaKIjx5H7",
        "outputId": "a2e7cd71-e3f1-49ff-ab0f-4c1a8c1694f2"
      },
      "source": [
        "# Finds the three most used languages for reviews, the filter is used to skip the numeric values\n",
        "top = df[df['language'].str.len() > 1]['language'].value_counts()[:3]\n",
        "print(top)"
      ],
      "execution_count": null,
      "outputs": [
        {
          "output_type": "stream",
          "name": "stdout",
          "text": [
            "english     17024059\n",
            "schinese     6839502\n",
            "russian      4168323\n",
            "Name: language, dtype: int64\n"
          ]
        }
      ]
    },
    {
      "cell_type": "markdown",
      "metadata": {
        "id": "QQM4JfXlRjXR"
      },
      "source": [
        "As we expected, we can see that the most common language used is English followed by simplified chinese and russian. "
      ]
    },
    {
      "cell_type": "markdown",
      "metadata": {
        "id": "KCc9fjozyLbH"
      },
      "source": [
        "## REQ 4.2"
      ]
    },
    {
      "cell_type": "markdown",
      "metadata": {
        "id": "SLJ7L4BOSYgm"
      },
      "source": [
        "This function returns a data frame which contains only the reviews written in the languges recived in input"
      ]
    },
    {
      "cell_type": "code",
      "metadata": {
        "id": "gLFz38qByQXt"
      },
      "source": [
        "# With loc function we set a subsection of the dataset where we consider\n",
        "# only rows that present the language took in input\n",
        "def fun_language(df_name,languages):\n",
        "  return df_name.loc[df_name['language'].isin(languages)]"
      ],
      "execution_count": null,
      "outputs": []
    },
    {
      "cell_type": "markdown",
      "metadata": {
        "id": "L1FkbiTizLbA"
      },
      "source": [
        "##REQ 4.3"
      ]
    },
    {
      "cell_type": "code",
      "metadata": {
        "id": "5D-5iwS5zPhV"
      },
      "source": [
        "# we use the fun_language and in input as parameter we pass a list which contains the results of REQ 4.1 (the language most used)\n",
        "k = fun_language(df,top.index.to_list()) \n",
        "# from k we select the rows with votes_funny > 0 and then we select the top 3 results\n",
        "best = k.loc[k['votes_funny'] > 0]['language'].value_counts()[:3]\n",
        "# the total number of rows of each language\n",
        "total = k.loc[k['language'].isin(best.index)]['language'].value_counts()[:3] "
      ],
      "execution_count": null,
      "outputs": []
    },
    {
      "cell_type": "code",
      "metadata": {
        "colab": {
          "base_uri": "https://localhost:8080/"
        },
        "id": "IYLHUy_xoeV0",
        "outputId": "11dc5ab1-0847-446d-b460-56d89da383d2"
      },
      "source": [
        "# we compute the percentage of votes_funny for the top three languages \n",
        "(round((best/total)*100)).astype(str)+ \"%\" "
      ],
      "execution_count": null,
      "outputs": [
        {
          "data": {
            "text/plain": [
              "english     11.0%\n",
              "schinese    12.0%\n",
              "russian     14.0%\n",
              "Name: language, dtype: object"
            ]
          },
          "execution_count": 14,
          "metadata": {},
          "output_type": "execute_result"
        }
      ]
    },
    {
      "cell_type": "markdown",
      "metadata": {
        "id": "RY9tzEFhmR4l"
      },
      "source": [
        "As we can see, considering the three most used languages, the reviews most voted as funny are the ones in russian language (14%)."
      ]
    },
    {
      "cell_type": "markdown",
      "metadata": {
        "id": "5EgVEA56sjrb"
      },
      "source": [
        "## REQ 4.4"
      ]
    },
    {
      "cell_type": "code",
      "metadata": {
        "id": "7R3j5ZDA11Fg"
      },
      "source": [
        "#we replaced the strings('True', 'False') with the values (1,0) because we have found an error when we have made the istruction below\n",
        "df[\"votes_helpful\"] = df[\"votes_helpful\"].replace(['True', 'False'], [1, 0])"
      ],
      "execution_count": null,
      "outputs": []
    },
    {
      "cell_type": "code",
      "metadata": {
        "id": "KqP-B3G92oHh"
      },
      "source": [
        "#we convert the data into integer\n",
        "df['votes_helpful'] = pd.to_numeric(df['votes_helpful'])"
      ],
      "execution_count": null,
      "outputs": []
    },
    {
      "cell_type": "code",
      "metadata": {
        "colab": {
          "base_uri": "https://localhost:8080/"
        },
        "id": "uZ2YFNscvimM",
        "outputId": "59315ba3-9f65-42b0-a614-4d30763c3875"
      },
      "source": [
        "# total contains the numbers of rows for each language in top(top is a variable which contains the top three language)\n",
        "total = df.loc[df['language'].isin(top.index)]['language'].value_counts()\n",
        "#for each language in 'top' we consider only the ones that have votes_helpful > 0, we count them \n",
        "#and we dived that results for the total calculated in the previous row. Then we make the percentage of the results\n",
        "((df.loc[(df['language'].isin(total.index)) & (df['votes_helpful'] > 0)]['language'].value_counts() / total) * 100)\\\n",
        ".round(2).astype(str) +'%'"
      ],
      "execution_count": null,
      "outputs": [
        {
          "output_type": "execute_result",
          "data": {
            "text/plain": [
              "english     28.11%\n",
              "schinese     26.0%\n",
              "russian     31.69%\n",
              "Name: language, dtype: object"
            ]
          },
          "metadata": {},
          "execution_count": 17
        }
      ]
    },
    {
      "cell_type": "markdown",
      "metadata": {
        "id": "VMcEzbZ48AlF"
      },
      "source": [
        "As we can see, the language in 'top' that has the major number of votes_helpful is the Russian."
      ]
    },
    {
      "cell_type": "markdown",
      "metadata": {
        "id": "q97wnla-H_aD"
      },
      "source": [
        "# REQ 5"
      ]
    },
    {
      "cell_type": "markdown",
      "metadata": {
        "id": "nDTtQLv1G0I-"
      },
      "source": [
        "##REQ 5.1"
      ]
    },
    {
      "cell_type": "code",
      "metadata": {
        "id": "M1ny6iLCsqGW"
      },
      "source": [
        "# Find the ten reviewers that write most reviews\n",
        "d = df['author.steamid'].value_counts()[:10].reset_index(name='count')"
      ],
      "execution_count": null,
      "outputs": []
    },
    {
      "cell_type": "code",
      "metadata": {
        "colab": {
          "base_uri": "https://localhost:8080/",
          "height": 356
        },
        "id": "HBWUtx3MXPk5",
        "outputId": "64fb039f-bdb3-47e4-b006-8d4c656d275a"
      },
      "source": [
        "d"
      ],
      "execution_count": null,
      "outputs": [
        {
          "output_type": "execute_result",
          "data": {
            "text/html": [
              "<div>\n",
              "<style scoped>\n",
              "    .dataframe tbody tr th:only-of-type {\n",
              "        vertical-align: middle;\n",
              "    }\n",
              "\n",
              "    .dataframe tbody tr th {\n",
              "        vertical-align: top;\n",
              "    }\n",
              "\n",
              "    .dataframe thead th {\n",
              "        text-align: right;\n",
              "    }\n",
              "</style>\n",
              "<table border=\"1\" class=\"dataframe\">\n",
              "  <thead>\n",
              "    <tr style=\"text-align: right;\">\n",
              "      <th></th>\n",
              "      <th>index</th>\n",
              "      <th>count</th>\n",
              "    </tr>\n",
              "  </thead>\n",
              "  <tbody>\n",
              "    <tr>\n",
              "      <th>0</th>\n",
              "      <td>76561198062813904</td>\n",
              "      <td>149</td>\n",
              "    </tr>\n",
              "    <tr>\n",
              "      <th>1</th>\n",
              "      <td>76561198315585536</td>\n",
              "      <td>132</td>\n",
              "    </tr>\n",
              "    <tr>\n",
              "      <th>2</th>\n",
              "      <td>76561198192166880</td>\n",
              "      <td>107</td>\n",
              "    </tr>\n",
              "    <tr>\n",
              "      <th>3</th>\n",
              "      <td>76561198239163744</td>\n",
              "      <td>106</td>\n",
              "    </tr>\n",
              "    <tr>\n",
              "      <th>4</th>\n",
              "      <td>76561198045381872</td>\n",
              "      <td>103</td>\n",
              "    </tr>\n",
              "    <tr>\n",
              "      <th>5</th>\n",
              "      <td>76561198064946144</td>\n",
              "      <td>100</td>\n",
              "    </tr>\n",
              "    <tr>\n",
              "      <th>6</th>\n",
              "      <td>76561198013146400</td>\n",
              "      <td>99</td>\n",
              "    </tr>\n",
              "    <tr>\n",
              "      <th>7</th>\n",
              "      <td>76561198027973296</td>\n",
              "      <td>99</td>\n",
              "    </tr>\n",
              "    <tr>\n",
              "      <th>8</th>\n",
              "      <td>76561197969749888</td>\n",
              "      <td>88</td>\n",
              "    </tr>\n",
              "    <tr>\n",
              "      <th>9</th>\n",
              "      <td>76561198032476032</td>\n",
              "      <td>86</td>\n",
              "    </tr>\n",
              "  </tbody>\n",
              "</table>\n",
              "</div>"
            ],
            "text/plain": [
              "               index  count\n",
              "0  76561198062813904    149\n",
              "1  76561198315585536    132\n",
              "2  76561198192166880    107\n",
              "3  76561198239163744    106\n",
              "4  76561198045381872    103\n",
              "5  76561198064946144    100\n",
              "6  76561198013146400     99\n",
              "7  76561198027973296     99\n",
              "8  76561197969749888     88\n",
              "9  76561198032476032     86"
            ]
          },
          "metadata": {},
          "execution_count": 16
        }
      ]
    },
    {
      "cell_type": "code",
      "metadata": {
        "colab": {
          "base_uri": "https://localhost:8080/",
          "height": 449
        },
        "id": "IRs0Y2pFN24w",
        "outputId": "1f386300-11b2-4d5f-992b-a9b736bdfd93"
      },
      "source": [
        "d.plot(kind=\"bar\", figsize=(10,5),x = 'index',y='count')"
      ],
      "execution_count": null,
      "outputs": [
        {
          "output_type": "execute_result",
          "data": {
            "text/plain": [
              "<matplotlib.axes._subplots.AxesSubplot at 0x7ff5fa0c05d0>"
            ]
          },
          "metadata": {},
          "execution_count": 17
        },
        {
          "output_type": "display_data",
          "data": {
            "image/png": "[encoded data removed]",
            "text/plain": [
              "<Figure size 720x360 with 1 Axes>"
            ]
          },
          "metadata": {
            "needs_background": "light"
          }
        }
      ]
    },
    {
      "cell_type": "markdown",
      "metadata": {
        "id": "m6xXS039JYed"
      },
      "source": [
        "As we can see the reviewer that wrote more reviews has written 149 comments. The first five reviewers have written more than 100 comments. "
      ]
    },
    {
      "cell_type": "markdown",
      "metadata": {
        "id": "04XU65q5Anmw"
      },
      "source": [
        "## REQ 5.2"
      ]
    },
    {
      "cell_type": "markdown",
      "metadata": {
        "id": "Hf8ICszqBtuQ"
      },
      "source": [
        "We focus on the apps that the best reviewer has reviewed"
      ]
    },
    {
      "cell_type": "code",
      "metadata": {
        "id": "zz4GfuXScawQ"
      },
      "source": [
        "# We take the best reviewer and we convert in float \"the author ID\"\n",
        "# where d['index'] means the author ID.\n",
        "# Then we show all the apps that he has reviewed\n",
        "most_pop = df.loc[df['author.steamid'] == d['index'][0]]"
      ],
      "execution_count": null,
      "outputs": []
    },
    {
      "cell_type": "code",
      "metadata": {
        "colab": {
          "base_uri": "https://localhost:8080/"
        },
        "id": "BJk_TXQMcrCO",
        "outputId": "b5699568-cf3f-4fd1-e4e7-082bf9c6e5b1"
      },
      "source": [
        "# Let's show all the apps that the best reviewer has commented:\n",
        "print(most_pop.groupby('app_name')['app_name'].groups.keys())"
      ],
      "execution_count": null,
      "outputs": [
        {
          "output_type": "stream",
          "name": "stdout",
          "text": [
            "dict_keys(['A Hat in Time', 'ARK: Survival Evolved', 'Age of Empires II (2013)', 'Age of Empires: Definitive Edition', 'American Truck Simulator', 'Among Us', 'Ancestors Legacy', 'Axiom Verge', 'Banished', 'BattleBlock Theater', 'BioShock Infinite', 'Black Desert Online', 'Black Mesa', 'Blackwake', 'Bomber Crew', 'Broforce', 'Castle Crashers', 'Cave Story+', 'Celeste', 'Cities: Skylines', 'Conan Exiles', 'Counter-Strike: Source', 'Cuphead', 'DARK SOULS™ III', 'DOOM', 'DOOM Eternal', 'DUSK', 'Darksiders III', 'Day of Infamy', 'Dead Cells', 'Dead Rising 4', 'Dead by Daylight', 'Deep Rock Galactic', 'Devil May Cry HD Collection', 'Dishonored', \"Don't Escape: 4 Days to Survive\", \"Don't Starve\", 'Duck Game', 'Dying Light', 'Enter the Gungeon', 'Euro Truck Simulator 2', 'Europa Universalis IV', 'FAR: Lone Sails', 'FTL: Faster Than Light', 'Factorio', 'Fallout 4', 'Finding Paradise', 'Foundation', 'Frostpunk', 'GRIS', \"Garry's Mod\", 'Getting Over It with Bennett Foddy', 'Ghost of a Tale', 'Gunpoint', 'HITMAN™ 2', 'Half-Life', 'Half-Life 2: Episode Two', 'Hearts of Iron IV', 'Heroes of Hammerwatch', 'Hollow Knight', 'Hotline Miami', 'House Flipper', 'Human: Fall Flat', 'Hunt: Showdown', 'Insurgency: Sandstorm', 'Into the Breach', 'Jurassic World Evolution', 'Just Cause 3', 'Just Cause 4', 'Keep Talking and Nobody Explodes', 'Kenshi', 'Kingdom Come: Deliverance', 'Little Nightmares', 'Mark of the Ninja', 'Middle-earth™: Shadow of War™', 'Monster Hunter: World', 'Mount & Blade: Warband', 'Mutant Year Zero: Road to Eden', 'Ni no Kuni™ II: Revenant Kingdom', 'NieR:Automata™', 'Night in the Woods', 'Nioh: Complete Edition', \"No Man's Sky\", 'Northgard', 'One Finger Death Punch', 'Outlast', 'Oxygen Not Included', 'PAYDAY 2', \"PLAYERUNKNOWN'S BATTLEGROUNDS\", 'Papers, Please', 'Phasmophobia', 'Phoenix Wright: Ace Attorney Trilogy', 'Planet Coaster', 'Portal 2', 'Railway Empire', 'Resident Evil 2', 'Resident Evil 7 Biohazard', 'RimWorld', 'Rise of Industry', 'Rise of the Tomb Raider', 'Rocket League', 'Rust', 'STAR WARS™ Empire at War: Gold Pack', 'Saints Row: The Third', 'Salt and Sanctuary', \"Sid Meier's Civilization V\", \"Sid Meier's Civilization VI\", 'SimAirport', 'Slime Rancher', 'Sniper Elite 4', 'South Park™: The Stick of Truth™', 'Stardew Valley', 'Stellaris', 'Styx: Shards of Darkness', 'Subnautica', 'Super Hexagon', 'Super Meat Boy', 'Surviving Mars', 'Terraria', 'The Binding of Isaac: Rebirth', 'The Elder Scrolls Online', 'The Elder Scrolls V: Skyrim Special Edition', 'The End Is Nigh', 'The Forest', 'The Walking Dead', 'The Wolf Among Us', 'They Are Billions', 'Thief Simulator', 'Titan Souls', 'To the Moon', 'Tomb Raider', 'Total War Saga: Thrones of Britannia', 'Total War: ROME II - Emperor Edition', 'Total War: WARHAMMER', 'Total War: WARHAMMER II', 'Totally Accurate Battlegrounds', 'Townscaper', 'Two Point Hospital', 'ULTRAKILL', 'Undertale', 'Urban Empire', 'Vampyr', 'Void Bastards', 'Volgarr the Viking', 'Warhammer: Vermintide 2', 'XCOM 2', 'Yakuza 0', 'Youtubers Life'])\n"
          ]
        }
      ]
    },
    {
      "cell_type": "markdown",
      "metadata": {
        "id": "be-KDPYpG-CV"
      },
      "source": [
        "## REQ 5.3"
      ]
    },
    {
      "cell_type": "code",
      "metadata": {
        "colab": {
          "base_uri": "https://localhost:8080/",
          "height": 110
        },
        "id": "OSix1ppGHBs0",
        "outputId": "485d6412-7b75-4f87-dc5d-74274b3b95e4"
      },
      "source": [
        "# We compute the number of apps that the best reviewer has purchased (steam_purchase = True)\n",
        "# and the number of apps that he got for free (steam_purchase = False)\n",
        "c = most_pop['steam_purchase'].value_counts().reset_index(name='counts')\n",
        "c"
      ],
      "execution_count": null,
      "outputs": [
        {
          "output_type": "execute_result",
          "data": {
            "text/html": [
              "<div>\n",
              "<style scoped>\n",
              "    .dataframe tbody tr th:only-of-type {\n",
              "        vertical-align: middle;\n",
              "    }\n",
              "\n",
              "    .dataframe tbody tr th {\n",
              "        vertical-align: top;\n",
              "    }\n",
              "\n",
              "    .dataframe thead th {\n",
              "        text-align: right;\n",
              "    }\n",
              "</style>\n",
              "<table border=\"1\" class=\"dataframe\">\n",
              "  <thead>\n",
              "    <tr style=\"text-align: right;\">\n",
              "      <th></th>\n",
              "      <th>index</th>\n",
              "      <th>counts</th>\n",
              "    </tr>\n",
              "  </thead>\n",
              "  <tbody>\n",
              "    <tr>\n",
              "      <th>0</th>\n",
              "      <td>True</td>\n",
              "      <td>110</td>\n",
              "    </tr>\n",
              "    <tr>\n",
              "      <th>1</th>\n",
              "      <td>False</td>\n",
              "      <td>39</td>\n",
              "    </tr>\n",
              "  </tbody>\n",
              "</table>\n",
              "</div>"
            ],
            "text/plain": [
              "   index  counts\n",
              "0   True     110\n",
              "1  False      39"
            ]
          },
          "metadata": {},
          "execution_count": 20
        }
      ]
    },
    {
      "cell_type": "code",
      "metadata": {
        "colab": {
          "base_uri": "https://localhost:8080/"
        },
        "id": "VF5DuW4yYWzS",
        "outputId": "493151f3-5780-42cc-f8af-3a8abf1ffdca"
      },
      "source": [
        "# we compute the percentage of the app purchased\n",
        "print('Purchased:',round((c.loc[c['index'] == True]['counts']/most_pop.shape[0])*100,2).values[0].astype(str) + \"%\")"
      ],
      "execution_count": null,
      "outputs": [
        {
          "output_type": "stream",
          "name": "stdout",
          "text": [
            "Purchased: 73.83%\n"
          ]
        }
      ]
    },
    {
      "cell_type": "markdown",
      "metadata": {
        "id": "-7rtdjgmPqfO"
      },
      "source": [
        "As we can see the best reviewer buys often his apps (73,83% of the app that has reviewed have been purchased)"
      ]
    },
    {
      "cell_type": "code",
      "metadata": {
        "colab": {
          "base_uri": "https://localhost:8080/"
        },
        "id": "jhgAQvzAauYH",
        "outputId": "5adfab69-d80d-45f0-887b-4235d67e7fa3"
      },
      "source": [
        "# we compute the percentage of the app purchased\n",
        "print('downloaded for free:',round((c.loc[c['index'] == False]['counts']/most_pop.shape[0])*100,2).values[0].astype(str) + \"%\")"
      ],
      "execution_count": null,
      "outputs": [
        {
          "output_type": "stream",
          "name": "stdout",
          "text": [
            "downloaded for free: 26.17%\n"
          ]
        }
      ]
    },
    {
      "cell_type": "markdown",
      "metadata": {
        "id": "zq_Tf6WCQMMr"
      },
      "source": [
        "As we can see the best reviewer has reviewed few games that he has gotten for free (only 26,17%)"
      ]
    },
    {
      "cell_type": "markdown",
      "metadata": {
        "id": "HVRCHAde-Iji"
      },
      "source": [
        "## REQ 5.4"
      ]
    },
    {
      "cell_type": "code",
      "metadata": {
        "colab": {
          "base_uri": "https://localhost:8080/"
        },
        "id": "v8vzB0_n-McH",
        "outputId": "884b9741-1b97-4534-ae25-cdd47147d722"
      },
      "source": [
        "# we have interpreted reviewed positively as the reviews that have reccommended = True.  We take \"most_pop\"(REQ 5.2) and we get\n",
        "#'steam_purchase' == True and 'recommended' == True and we count the number of rows\n",
        "print(\"Reviewed App purchased positively\",\\\n",
        "      most_pop[(most_pop['steam_purchase'] == True) & (most_pop['recommended'] == True)]['recommended'].count())"
      ],
      "execution_count": null,
      "outputs": [
        {
          "output_type": "stream",
          "name": "stdout",
          "text": [
            "Reviewed App purchased positively 108\n"
          ]
        }
      ]
    },
    {
      "cell_type": "code",
      "metadata": {
        "colab": {
          "base_uri": "https://localhost:8080/"
        },
        "id": "T8DobCkyd-bU",
        "outputId": "af938967-6e7c-4e55-cca7-d099e9ea972a"
      },
      "source": [
        "# we have interpreted reviewed negatively as the reviews that have reccommended = False.  We take \"most_pop\"(REQ 5.2) and we get\n",
        "#'steam_purchase' == True and 'recommended' == False and we count the number of rows.\n",
        "print(\"Reviewed App purchased negatively\",\\\n",
        "most_pop[(most_pop['steam_purchase'] == True) & (most_pop['recommended'] == False)]['recommended'].count())"
      ],
      "execution_count": null,
      "outputs": [
        {
          "output_type": "stream",
          "name": "stdout",
          "text": [
            "Reviewed App purchased negatively 2\n"
          ]
        }
      ]
    },
    {
      "cell_type": "code",
      "metadata": {
        "colab": {
          "base_uri": "https://localhost:8080/"
        },
        "id": "QKJweXQnevpV",
        "outputId": "2b609a22-a753-4ff7-8496-0fbed3dd79a0"
      },
      "source": [
        "# We take \"most_pop\" and we get\n",
        "#'steam_purchase' == False and 'recommended' == True and we count the number of rows\n",
        "print(\"Reviewed App get free positively\",\\\n",
        "most_pop[(most_pop['steam_purchase'] == False) & (most_pop['recommended'] == True)]['recommended'].count())"
      ],
      "execution_count": null,
      "outputs": [
        {
          "output_type": "stream",
          "name": "stdout",
          "text": [
            "Reviewed App get free positively 38\n"
          ]
        }
      ]
    },
    {
      "cell_type": "code",
      "metadata": {
        "colab": {
          "base_uri": "https://localhost:8080/"
        },
        "id": "CTwt9shNfQf8",
        "outputId": "3dc351eb-1606-42de-a46e-58b42d5222f4"
      },
      "source": [
        "# We take \"most_pop\" and we get\n",
        "#'steam_purchase' == False and 'recommended' == False and we count the number of rows.\n",
        "print(\"Reviewed App get free negatively\",\\\n",
        "most_pop[(most_pop['steam_purchase'] == False) & (most_pop['recommended'] == False)]['recommended'].count())"
      ],
      "execution_count": null,
      "outputs": [
        {
          "output_type": "stream",
          "name": "stdout",
          "text": [
            "Reviewed App get free negatively 1\n"
          ]
        }
      ]
    },
    {
      "cell_type": "markdown",
      "metadata": {
        "id": "SxDde2e4fgHv"
      },
      "source": [
        "As we can deduce from the results, the author got informed about the app before downloading it."
      ]
    },
    {
      "cell_type": "markdown",
      "metadata": {
        "id": "sOjh3GMARiaD"
      },
      "source": [
        "# REQ 6"
      ]
    },
    {
      "cell_type": "markdown",
      "metadata": {
        "id": "a3ik1u6zY2Or"
      },
      "source": [
        "## REQ 6.1"
      ]
    },
    {
      "cell_type": "code",
      "metadata": {
        "id": "Lvp1sQt9Gisv"
      },
      "source": [
        "# Computes the mean of the difference between \n",
        "g = (pd.to_datetime(df['timestamp_updated'],unit='s') - pd.to_datetime(df['timestamp_created'],unit='s')).mean()"
      ],
      "execution_count": null,
      "outputs": []
    },
    {
      "cell_type": "code",
      "metadata": {
        "colab": {
          "base_uri": "https://localhost:8080/"
        },
        "id": "_uVpaG0cGSE7",
        "outputId": "852ee57d-d9ed-4fcf-f378-08c1ce70456c"
      },
      "source": [
        "print (\"average days and minute:\",g.days,int (g.seconds / 60))\n"
      ],
      "execution_count": null,
      "outputs": [
        {
          "name": "stdout",
          "output_type": "stream",
          "text": [
            "average days and minute: 27 1106\n"
          ]
        }
      ]
    },
    {
      "cell_type": "markdown",
      "metadata": {
        "id": "R565MnVrY6k3"
      },
      "source": [
        "## REQ 6.2"
      ]
    },
    {
      "cell_type": "markdown",
      "metadata": {
        "id": "8UeuVvp7HGm8"
      },
      "source": [
        "The average days and minutes of time that pass between a review creation and its update is equal to 27 days and 1106 minutes, considering also the reviews that are not updated. "
      ]
    },
    {
      "cell_type": "code",
      "metadata": {
        "id": "lad9lepVK_4Z"
      },
      "source": [
        "# We create a new column, that is the difference between \n",
        "# timestamp updated and timestamp created expressed in seconds (integer)\n",
        "df['totale_time'] = (pd.to_datetime(df['timestamp_updated'],unit='s') - pd.to_datetime(df['timestamp_created'],unit='s')).dt.total_seconds()"
      ],
      "execution_count": null,
      "outputs": []
    },
    {
      "cell_type": "code",
      "metadata": {
        "id": "yKdpi37jNwjG"
      },
      "source": [
        "# Finds the three authors that update reviews most frequently\n",
        "p = df.loc[df['totale_time'] > 0].groupby('author.steamid')['author.steamid'].count().nlargest(3).reset_index(name='count')"
      ],
      "execution_count": null,
      "outputs": []
    },
    {
      "cell_type": "code",
      "metadata": {
        "colab": {
          "base_uri": "https://localhost:8080/",
          "height": 143
        },
        "id": "fFW4IS-ldSZ9",
        "outputId": "f55be24a-5d0e-424d-a031-262dab75fb80"
      },
      "source": [
        "p"
      ],
      "execution_count": null,
      "outputs": [
        {
          "output_type": "execute_result",
          "data": {
            "text/html": [
              "<div>\n",
              "<style scoped>\n",
              "    .dataframe tbody tr th:only-of-type {\n",
              "        vertical-align: middle;\n",
              "    }\n",
              "\n",
              "    .dataframe tbody tr th {\n",
              "        vertical-align: top;\n",
              "    }\n",
              "\n",
              "    .dataframe thead th {\n",
              "        text-align: right;\n",
              "    }\n",
              "</style>\n",
              "<table border=\"1\" class=\"dataframe\">\n",
              "  <thead>\n",
              "    <tr style=\"text-align: right;\">\n",
              "      <th></th>\n",
              "      <th>author.steamid</th>\n",
              "      <th>count</th>\n",
              "    </tr>\n",
              "  </thead>\n",
              "  <tbody>\n",
              "    <tr>\n",
              "      <th>0</th>\n",
              "      <td>76561198192166880</td>\n",
              "      <td>95</td>\n",
              "    </tr>\n",
              "    <tr>\n",
              "      <th>1</th>\n",
              "      <td>76561198206999968</td>\n",
              "      <td>63</td>\n",
              "    </tr>\n",
              "    <tr>\n",
              "      <th>2</th>\n",
              "      <td>76561198072450800</td>\n",
              "      <td>60</td>\n",
              "    </tr>\n",
              "  </tbody>\n",
              "</table>\n",
              "</div>"
            ],
            "text/plain": [
              "      author.steamid  count\n",
              "0  76561198192166880     95\n",
              "1  76561198206999968     63\n",
              "2  76561198072450800     60"
            ]
          },
          "metadata": {},
          "execution_count": 56
        }
      ]
    },
    {
      "cell_type": "code",
      "metadata": {
        "colab": {
          "base_uri": "https://localhost:8080/",
          "height": 450
        },
        "id": "wuY0MG9ic1H9",
        "outputId": "3cae1854-bb1e-478b-c913-a3c03523a2e7"
      },
      "source": [
        "p.plot(kind=\"bar\", figsize=(10,5),x = 'author.steamid',y='count')"
      ],
      "execution_count": null,
      "outputs": [
        {
          "output_type": "execute_result",
          "data": {
            "text/plain": [
              "<matplotlib.axes._subplots.AxesSubplot at 0x7f3780903690>"
            ]
          },
          "metadata": {},
          "execution_count": 58
        },
        {
          "output_type": "display_data",
          "data": {
            "image/png": "[encoded data removed]",
            "text/plain": [
              "<Figure size 720x360 with 1 Axes>"
            ]
          },
          "metadata": {
            "needs_background": "light"
          }
        }
      ]
    },
    {
      "cell_type": "markdown",
      "metadata": {
        "id": "OwrkWBRYFroO"
      },
      "source": [
        "As we can see the author that update most frequently his reviews had updated them 95 times. The following crazy updaters have updated respectively 63 and 60 reviews. "
      ]
    },
    {
      "cell_type": "markdown",
      "metadata": {
        "id": "nU_Q2KvlRqVZ"
      },
      "source": [
        "# REQ 7"
      ]
    },
    {
      "cell_type": "markdown",
      "metadata": {
        "id": "cS8LyTFNBZVo"
      },
      "source": [
        "## REQ 7.1"
      ]
    },
    {
      "cell_type": "markdown",
      "metadata": {
        "id": "RgGRP9S6Vq_t"
      },
      "source": [
        "Check the column if there are any problems to fix"
      ]
    },
    {
      "cell_type": "code",
      "metadata": {
        "colab": {
          "base_uri": "https://localhost:8080/"
        },
        "id": "wv8RJUxqVkdS",
        "outputId": "8f7183e1-91d2-440e-a918-38c0f56162b5"
      },
      "source": [
        "df['weighted_vote_score'].describe()"
      ],
      "execution_count": null,
      "outputs": [
        {
          "output_type": "execute_result",
          "data": {
            "text/plain": [
              "count    3.874737e+07\n",
              "mean     1.623657e-01\n",
              "std      2.623215e-01\n",
              "min      0.000000e+00\n",
              "25%      0.000000e+00\n",
              "50%      0.000000e+00\n",
              "75%      4.800000e-01\n",
              "max      4.230000e+02\n",
              "Name: weighted_vote_score, dtype: float64"
            ]
          },
          "metadata": {},
          "execution_count": 63
        }
      ]
    },
    {
      "cell_type": "code",
      "metadata": {
        "colab": {
          "base_uri": "https://localhost:8080/"
        },
        "id": "vUdnqzBaRsUD",
        "outputId": "c0de8604-89c0-4108-9896-6b7266ebfb6c"
      },
      "source": [
        "k = df.loc[df['weighted_vote_score'] >= 0.5].count()[0] # Compute number of revies with a weighted vote score equal or bigger than 0,5\n",
        "p = k / df.shape[0] # Divide the value computed before to the number of reviews\n",
        "print(round(p,2))"
      ],
      "execution_count": null,
      "outputs": [
        {
          "output_type": "stream",
          "name": "stdout",
          "text": [
            "0.22\n"
          ]
        }
      ]
    },
    {
      "cell_type": "markdown",
      "metadata": {
        "id": "kTMp4uyV_Q3O"
      },
      "source": [
        "As we can see the probability of reviews that have a weighted vote score equal or bigger than 0,5 compared with the entire dataset is equal to 0,22 or, in other words, 22%"
      ]
    },
    {
      "cell_type": "markdown",
      "metadata": {
        "id": "BCpJ6L6hBg5-"
      },
      "source": [
        "## REQ 7.2"
      ]
    },
    {
      "cell_type": "markdown",
      "metadata": {
        "id": "f-sQpXZFV5J0"
      },
      "source": [
        "Check if the column has any problem"
      ]
    },
    {
      "cell_type": "code",
      "metadata": {
        "colab": {
          "base_uri": "https://localhost:8080/"
        },
        "id": "RUvtHJFqV-ow",
        "outputId": "c8d4bafa-d342-4956-ca7f-5839dea869d9"
      },
      "source": [
        "df['votes_funny'].describe()"
      ],
      "execution_count": null,
      "outputs": [
        {
          "data": {
            "text/plain": [
              "count    3.874737e+07\n",
              "mean     1.203789e+05\n",
              "std      2.273775e+07\n",
              "min      0.000000e+00\n",
              "25%      0.000000e+00\n",
              "50%      0.000000e+00\n",
              "75%      0.000000e+00\n",
              "max      4.294967e+09\n",
              "Name: votes_funny, dtype: float64"
            ]
          },
          "execution_count": 24,
          "metadata": {},
          "output_type": "execute_result"
        }
      ]
    },
    {
      "cell_type": "code",
      "metadata": {
        "colab": {
          "base_uri": "https://localhost:8080/"
        },
        "id": "ggTJhBy8WnHm",
        "outputId": "6fce1d5d-9603-43bf-eec5-28a5f46285e7"
      },
      "source": [
        "#Compute the probability that a review has at least one vote as funny given that the Weighted Vote Score is bigger than 0.5\n",
        "p = 1 - ((df.loc[(df['votes_funny'] == 0.0) & (df['weighted_vote_score'] > 0.5)].count()[0])/df.loc[df['weighted_vote_score'] > 0.5].count()[0])\n",
        "print(round(p,2))"
      ],
      "execution_count": null,
      "outputs": [
        {
          "output_type": "stream",
          "name": "stdout",
          "text": [
            "0.19\n"
          ]
        }
      ]
    },
    {
      "cell_type": "markdown",
      "metadata": {
        "id": "kaLyoWdHAa1M"
      },
      "source": [
        "As we can see the probability that a review has at least one vote as funny given that the Weighted Vote Score is bigger than 0.5 is equal to 0,19 or, in other words to the 19% of the reviews with a weighted vote score bigger than 0,5. "
      ]
    },
    {
      "cell_type": "markdown",
      "metadata": {
        "id": "uFW6h_X_BSBz"
      },
      "source": [
        "## REQ 7.3"
      ]
    },
    {
      "cell_type": "markdown",
      "metadata": {
        "id": "rUbtcCdVBU_U"
      },
      "source": [
        "To show if the probability that “a review has at least one vote as funny” independent of the “probability that a review has a Weighted Vote Score equal or bigger than 0.5” we used the following formula:"
      ]
    },
    {
      "cell_type": "markdown",
      "metadata": {
        "id": "eMw1U1gBuolM"
      },
      "source": [
        "A $\\perp$ B ⇔  P(A $\\cap$ B) = P(A) * P(B)"
      ]
    },
    {
      "cell_type": "code",
      "metadata": {
        "colab": {
          "base_uri": "https://localhost:8080/"
        },
        "id": "uxBNOctcu7kY",
        "outputId": "b76feadf-2744-49b1-c33b-dd513912db2e"
      },
      "source": [
        "intersect = df.loc[(df['votes_funny'] != 0.0) & (df['weighted_vote_score'] >= 0.5)].count()[0]/df.shape[0]\n",
        "A = df.loc[df['votes_funny'] != 0].count()[0]/df.shape[0]\n",
        "B = df.loc[df['weighted_vote_score'] >= 0.5].count()[0]/df.shape[0]\n",
        "print(round(A*B,4) , round(intersect,4))"
      ],
      "execution_count": null,
      "outputs": [
        {
          "output_type": "stream",
          "name": "stdout",
          "text": [
            "0.0254 0.0414\n"
          ]
        }
      ]
    },
    {
      "cell_type": "markdown",
      "metadata": {
        "id": "2E-UQ9dcB_xT"
      },
      "source": [
        "As we can see the product of the probabilities is different from the probability of intersection so the \"review has at least one vote as funny\" variable and \"probability that a review has a Weighted Vote Score equal or bigger than 0.5” variable are not indipendent. "
      ]
    },
    {
      "cell_type": "markdown",
      "metadata": {
        "id": "SYu887Yx-Ns_"
      },
      "source": [
        "# REQ 8"
      ]
    },
    {
      "cell_type": "markdown",
      "metadata": {
        "id": "DHq7xTSqCmE8"
      },
      "source": [
        "## REQ 8.1"
      ]
    },
    {
      "cell_type": "markdown",
      "metadata": {
        "id": "-3mK2GnOCOmf"
      },
      "source": [
        "Test the difference for weighted score between reviews in simplified chinese and russian"
      ]
    },
    {
      "cell_type": "code",
      "metadata": {
        "id": "DlOhOcPN-PkG"
      },
      "source": [
        "#Creates a new dataset with only two columns that we need\n",
        "sub=df[['language','weighted_vote_score']]"
      ],
      "execution_count": null,
      "outputs": []
    },
    {
      "cell_type": "code",
      "metadata": {
        "id": "Vo-YPvODqf2n"
      },
      "source": [
        "from scipy import stats"
      ],
      "execution_count": null,
      "outputs": []
    },
    {
      "cell_type": "code",
      "metadata": {
        "id": "JniKTGdsqmhL"
      },
      "source": [
        "#Creates two new variables for reviews in simplified chinese and \n",
        "#russian considering only reviews with a weighted vote score higher than zero\n",
        "\n",
        "china = sub[(sub['language']=='schinese') & (sub['weighted_vote_score'] !=0)]['weighted_vote_score']\n",
        "\n",
        "russia = sub[(sub['language']=='russian') & (sub['weighted_vote_score'] !=0)]['weighted_vote_score']"
      ],
      "execution_count": null,
      "outputs": []
    },
    {
      "cell_type": "code",
      "metadata": {
        "colab": {
          "base_uri": "https://localhost:8080/"
        },
        "id": "qh5V9xRTrEHS",
        "outputId": "2eb3872c-3f41-4e78-fdc3-7d8217e4b650"
      },
      "source": [
        "#With module stats in scipy package we compute the p-value of stat\n",
        "\n",
        "stats.ttest_ind(china,russia,equal_var=False).pvalue"
      ],
      "execution_count": null,
      "outputs": [
        {
          "data": {
            "text/plain": [
              "0.0"
            ]
          },
          "execution_count": 38,
          "metadata": {},
          "output_type": "execute_result"
        }
      ]
    },
    {
      "cell_type": "markdown",
      "metadata": {
        "id": "-6KXAnp274KW"
      },
      "source": [
        "To test if there is differences between weighted vote score for reviews made in simplified chinese and russian we use a t-test for group differences. We compute the p-value for the t-test and we obtain 0. Against a confidence level equal to alpha = 0,05 a p-value = 0 means that we reject the null hypothesis that means for both groups are equals. "
      ]
    },
    {
      "cell_type": "markdown",
      "metadata": {
        "id": "84g370SBrbEY"
      },
      "source": [
        "## REQ 8.2"
      ]
    },
    {
      "cell_type": "markdown",
      "metadata": {
        "id": "pjRcT2dAteTi"
      },
      "source": [
        "Create a new dataset with the variables we need"
      ]
    },
    {
      "cell_type": "markdown",
      "metadata": {
        "id": "ciaDdcDrtldC"
      },
      "source": [
        "Create a new variable: difference between time created review and time updated review"
      ]
    },
    {
      "cell_type": "code",
      "metadata": {
        "id": "4S7qk-blI-AE"
      },
      "source": [
        "import numpy as np\n",
        "import matplotlib.pyplot as plt\n",
        "from sklearn.linear_model import LinearRegression"
      ],
      "execution_count": null,
      "outputs": []
    },
    {
      "cell_type": "code",
      "metadata": {
        "id": "s0fziBKd6cR8"
      },
      "source": [
        "plt.figure(figsize=(10,10))\n",
        "ax = plt.axes()\n",
        "ax.scatter(x='weighted_vote_score',y='diff',data=rq2)\n",
        "ax.plot(x,y)\n",
        "plt.show()"
      ],
      "execution_count": null,
      "outputs": []
    },
    {
      "cell_type": "code",
      "metadata": {
        "id": "kdGkzFmeIipS"
      },
      "source": [
        "#We create a linear regression model\n",
        "model = LinearRegression()"
      ],
      "execution_count": null,
      "outputs": []
    },
    {
      "cell_type": "code",
      "metadata": {
        "colab": {
          "base_uri": "https://localhost:8080/"
        },
        "id": "Aj_vFT9wOeXq",
        "outputId": "82b19c61-67db-45b0-fa91-ba2f8a23fd5e"
      },
      "source": [
        "x = df['weighted_vote_score']"
      ],
      "execution_count": null,
      "outputs": [
        {
          "data": {
            "text/plain": [
              "['weighted_vote_score']"
            ]
          },
          "execution_count": 53,
          "metadata": {},
          "output_type": "execute_result"
        }
      ]
    },
    {
      "cell_type": "code",
      "metadata": {
        "id": "MiycT6wmOOcC"
      },
      "source": [
        "# We clean the weighted score values from NAN values\n",
        "x.replace([np.inf, -np.inf, np.nan], 0, inplace=True)"
      ],
      "execution_count": null,
      "outputs": []
    },
    {
      "cell_type": "code",
      "metadata": {
        "id": "sX_lUYsQLk3X"
      },
      "source": [
        "# Converting weighted vote score column to an array element\n",
        "x = np.array(df['weighted_vote_score']).reshape(-1,1)\n",
        "# Converting total time column (difference between timestamp updated and timestamp created)\n",
        "#from seconds to days\n",
        "y = df['totale_time'] / (60*60*24)"
      ],
      "execution_count": null,
      "outputs": []
    },
    {
      "cell_type": "code",
      "metadata": {
        "id": "J8tDd5V3eeLR"
      },
      "source": [
        "# We clean the total time column values from NAN values\n",
        "y.replace([np.inf, -np.inf, np.nan], 0, inplace=True)#.dropna(subset=[\"totale_time\"], how=\"all\")"
      ],
      "execution_count": null,
      "outputs": []
    },
    {
      "cell_type": "code",
      "metadata": {
        "id": "8vSx8tuNj3T1"
      },
      "source": [
        "#x = np.nan_to_num(x)"
      ],
      "execution_count": null,
      "outputs": []
    },
    {
      "cell_type": "code",
      "metadata": {
        "colab": {
          "base_uri": "https://localhost:8080/",
          "height": 313
        },
        "id": "J2bAc5a_hcLr",
        "outputId": "b31b7b74-3f2f-47cf-e2a2-686538b8c25b"
      },
      "source": [
        "# We check if data are cleaned\n",
        "pd.DataFrame(x).describe()"
      ],
      "execution_count": null,
      "outputs": [
        {
          "data": {
            "text/html": [
              "<div>\n",
              "<style scoped>\n",
              "    .dataframe tbody tr th:only-of-type {\n",
              "        vertical-align: middle;\n",
              "    }\n",
              "\n",
              "    .dataframe tbody tr th {\n",
              "        vertical-align: top;\n",
              "    }\n",
              "\n",
              "    .dataframe thead th {\n",
              "        text-align: right;\n",
              "    }\n",
              "</style>\n",
              "<table border=\"1\" class=\"dataframe\">\n",
              "  <thead>\n",
              "    <tr style=\"text-align: right;\">\n",
              "      <th></th>\n",
              "      <th>0</th>\n",
              "    </tr>\n",
              "  </thead>\n",
              "  <tbody>\n",
              "    <tr>\n",
              "      <th>count</th>\n",
              "      <td>3.874738e+07</td>\n",
              "    </tr>\n",
              "    <tr>\n",
              "      <th>mean</th>\n",
              "      <td>1.623330e-01</td>\n",
              "    </tr>\n",
              "    <tr>\n",
              "      <th>std</th>\n",
              "      <td>2.421257e-01</td>\n",
              "    </tr>\n",
              "    <tr>\n",
              "      <th>min</th>\n",
              "      <td>0.000000e+00</td>\n",
              "    </tr>\n",
              "    <tr>\n",
              "      <th>25%</th>\n",
              "      <td>0.000000e+00</td>\n",
              "    </tr>\n",
              "    <tr>\n",
              "      <th>50%</th>\n",
              "      <td>0.000000e+00</td>\n",
              "    </tr>\n",
              "    <tr>\n",
              "      <th>75%</th>\n",
              "      <td>4.800000e-01</td>\n",
              "    </tr>\n",
              "    <tr>\n",
              "      <th>max</th>\n",
              "      <td>1.000000e+00</td>\n",
              "    </tr>\n",
              "  </tbody>\n",
              "</table>\n",
              "</div>"
            ],
            "text/plain": [
              "                  0\n",
              "count  3.874738e+07\n",
              "mean   1.623330e-01\n",
              "std    2.421257e-01\n",
              "min    0.000000e+00\n",
              "25%    0.000000e+00\n",
              "50%    0.000000e+00\n",
              "75%    4.800000e-01\n",
              "max    1.000000e+00"
            ]
          },
          "execution_count": 58,
          "metadata": {},
          "output_type": "execute_result"
        }
      ]
    },
    {
      "cell_type": "code",
      "metadata": {
        "colab": {
          "base_uri": "https://localhost:8080/"
        },
        "id": "6VjQexPaKxve",
        "outputId": "ff4ec332-de41-4228-b3ab-56d2ad461129"
      },
      "source": [
        "# Fitting the linear model for the two assigned variables\n",
        "model.fit(x,y)"
      ],
      "execution_count": null,
      "outputs": [
        {
          "data": {
            "text/plain": [
              "LinearRegression(copy_X=True, fit_intercept=True, n_jobs=None, normalize=False)"
            ]
          },
          "execution_count": 59,
          "metadata": {},
          "output_type": "execute_result"
        }
      ]
    },
    {
      "cell_type": "code",
      "metadata": {
        "colab": {
          "base_uri": "https://localhost:8080/"
        },
        "id": "km0CTeg2MFO0",
        "outputId": "dd945aa3-6580-436f-8517-19d9b72b0e82"
      },
      "source": [
        "# Storing intercept and slope of the linear model in two varibles b0 b1\n",
        "b0 = model.intercept_\n",
        "b1 = model.coef_\n",
        "print(b0,b1)"
      ],
      "execution_count": null,
      "outputs": [
        {
          "name": "stdout",
          "output_type": "stream",
          "text": [
            "22.799468544436237 [30.60872367]\n"
          ]
        }
      ]
    },
    {
      "cell_type": "code",
      "metadata": {
        "colab": {
          "base_uri": "https://localhost:8080/"
        },
        "id": "kx7QgIB9Nwrb",
        "outputId": "626cbd1d-d6a4-4099-f17a-640bf28dac02"
      },
      "source": [
        "# Compute the predictions of the linear model given the x values\n",
        "y_pred = model.predict(x)\n",
        "y_pred"
      ],
      "execution_count": null,
      "outputs": [
        {
          "data": {
            "text/plain": [
              "array([22.79946854, 22.79946854, 22.79946854, ..., 42.12196133,\n",
              "       22.79946854, 38.83261038])"
            ]
          },
          "execution_count": 61,
          "metadata": {},
          "output_type": "execute_result"
        }
      ]
    },
    {
      "cell_type": "code",
      "metadata": {
        "id": "g-fjIwHyO5YK"
      },
      "source": [
        "#Computing the Regression Deviance and its degrees of freedom\n",
        "dreg = sum((y_pred - y.mean())**2)\n",
        "greg = 1"
      ],
      "execution_count": null,
      "outputs": []
    },
    {
      "cell_type": "code",
      "metadata": {
        "id": "cCpjrB7MO_qK"
      },
      "source": [
        "#Computing the Residual Deviance and its degrees of freedom\n",
        "dres = sum((y - y_pred)**2)\n",
        "gres = len(y)-2"
      ],
      "execution_count": null,
      "outputs": []
    },
    {
      "cell_type": "code",
      "metadata": {
        "colab": {
          "base_uri": "https://localhost:8080/"
        },
        "id": "r8-95qtjO_d7",
        "outputId": "c43cbe03-ffd1-40e6-d578-5d53369a25f2"
      },
      "source": [
        "#Computing the Fisher statistic\n",
        "Foss = (dreg*gres)/(dres*greg)"
      ],
      "execution_count": null,
      "outputs": [
        {
          "data": {
            "text/plain": [
              "True"
            ]
          },
          "execution_count": 66,
          "metadata": {},
          "output_type": "execute_result"
        }
      ]
    },
    {
      "cell_type": "code",
      "metadata": {
        "colab": {
          "base_uri": "https://localhost:8080/"
        },
        "id": "mO4P5ea0WobX",
        "outputId": "bbacf5f6-1eda-488f-ccc6-ccf1c46768b5"
      },
      "source": [
        "# Computing the t test for the b1 value\n",
        "s = b1/np.sqrt(Foss)\n",
        "s"
      ],
      "execution_count": null,
      "outputs": [
        {
          "data": {
            "text/plain": [
              "array([0.09091731])"
            ]
          },
          "execution_count": 69,
          "metadata": {},
          "output_type": "execute_result"
        }
      ]
    },
    {
      "cell_type": "markdown",
      "metadata": {
        "id": "YzrqGvMhaPWj"
      },
      "source": [
        "We are testing with the computed slope of the linear model in this test the null hypothesis that b1 is equal to 0 (that means that the two variables are not related) and the alternative hypothesis that b1 is not 0 (two tails test).\n",
        "To accept the null hypothesis the t-test we have computed must be lower than the thresholds that we set for a confidence level of alpha = 0,05.\n",
        "We have found out that the t-test is equal to 0,091. Looking at the t-distribution table we find out that the confidence level at 1-alpha/2 level is equal to 1,96.\n",
        "We see that 0,091 is lower than 1,96 so we accept the null hypothesis so the two variables are not linear related. "
      ]
    },
    {
      "cell_type": "markdown",
      "metadata": {
        "id": "cQ7YiTNtU-vH"
      },
      "source": [
        "To confirm our results we can compute linear correlation coefficient:"
      ]
    },
    {
      "cell_type": "code",
      "metadata": {
        "colab": {
          "base_uri": "https://localhost:8080/"
        },
        "id": "R-mL16e7RHyF",
        "outputId": "9ccd599b-72eb-4708-b04f-2c26289f5f7a"
      },
      "source": [
        "x = np.array(df['weighted_vote_score'])\n",
        "y = np.array(df['totale_time'])\n",
        "n = len(x)\n",
        "r = np.corrcoef(x, y)\n",
        "r[0][1]"
      ],
      "execution_count": null,
      "outputs": [
        {
          "data": {
            "text/plain": [
              "0.054006150742646294"
            ]
          },
          "execution_count": 77,
          "metadata": {},
          "output_type": "execute_result"
        }
      ]
    },
    {
      "cell_type": "markdown",
      "metadata": {
        "id": "tEKbQ9ujUd6U"
      },
      "source": [
        "As we can see from the correlation computed the correlation between wieghted vote score and the time that passed between review creation and update is near to 0, that means there is no correlation between two variables"
      ]
    },
    {
      "cell_type": "markdown",
      "metadata": {
        "id": "elxrEdj7f4nL"
      },
      "source": [
        "## REQ 8.3"
      ]
    },
    {
      "cell_type": "code",
      "metadata": {
        "id": "ZNJiHch2f71p"
      },
      "source": [
        "# Creating two subsets in order to split reviews with recommendations and revies without recommendation\n",
        "recom = df[['weighted_vote_score','totale_time','recommended']].loc[df['recommended'] == True]\n",
        "norec = df[['weighted_vote_score','totale_time','recommended']].loc[df['recommended'] == False]"
      ],
      "execution_count": null,
      "outputs": []
    },
    {
      "cell_type": "code",
      "metadata": {
        "id": "RWWL7CaaiGz0"
      },
      "source": [
        "# Create two models to store our results\n",
        "model1 = LinearRegression()\n",
        "model2 = LinearRegression()"
      ],
      "execution_count": null,
      "outputs": []
    },
    {
      "cell_type": "code",
      "metadata": {
        "id": "ZV1fGEMPlBrN"
      },
      "source": [
        "# Assign the columns we need to some values\n",
        "xr = np.array(recom['weighted_vote_score']).reshape(-1,1)\n",
        "yr = recom['totale_time']/(60*60*24)\n",
        "xn = np.array(norec['weighted_vote_score']).reshape(-1,1)\n",
        "yn = norec['totale_time']/(60*60*24)"
      ],
      "execution_count": null,
      "outputs": []
    },
    {
      "cell_type": "code",
      "metadata": {
        "colab": {
          "base_uri": "https://localhost:8080/"
        },
        "id": "Mt5VTiSsk-eq",
        "outputId": "077a98ae-37ca-476f-bd57-d4f2715b3088"
      },
      "source": [
        "# Fitting the linear regression model for both of the datasets\n",
        "model1.fit(xr,yr)\n",
        "\n",
        "model2.fit(xn,yn)"
      ],
      "execution_count": null,
      "outputs": [
        {
          "data": {
            "text/plain": [
              "LinearRegression(copy_X=True, fit_intercept=True, n_jobs=None, normalize=False)"
            ]
          },
          "execution_count": 22,
          "metadata": {},
          "output_type": "execute_result"
        }
      ]
    },
    {
      "cell_type": "code",
      "metadata": {
        "colab": {
          "base_uri": "https://localhost:8080/"
        },
        "id": "Xjk_gCZ3lqGI",
        "outputId": "e16169ff-b986-4659-8161-084256840591"
      },
      "source": [
        "# Assign intercept and slope for the regression model of each dataset\n",
        "b0r = model1.intercept_\n",
        "b1r = model1.coef_\n",
        "\n",
        "b0n = model2.intercept_\n",
        "b1n = model2.coef_\n",
        "\n",
        "print(b0r, b1r)\n",
        "print(b0n, b1n)"
      ],
      "execution_count": null,
      "outputs": [
        {
          "name": "stdout",
          "output_type": "stream",
          "text": [
            "21.73751545250441 [33.85324672]\n",
            "34.817377214984845 [1.69085199]\n"
          ]
        }
      ]
    },
    {
      "cell_type": "code",
      "metadata": {
        "id": "Qk2nDCvTmpsL"
      },
      "source": [
        "# Compute the extimated values of the linear regression model for both of the datasets\n",
        "yr_pred = model1.predict(xr)\n",
        "\n",
        "yn_pred = model2.predict(xn)"
      ],
      "execution_count": null,
      "outputs": []
    },
    {
      "cell_type": "code",
      "metadata": {
        "id": "KYfv0xDSm-rx"
      },
      "source": [
        "# Compute the t-test for the recommended apps only\n",
        "dregr = sum((yr_pred - yr.mean())**2)\n",
        "gregr = 1\n",
        "\n",
        "dresr = sum((yr - yr_pred)**2)\n",
        "gresr = len(yr)-2\n",
        "\n",
        "fossr = (dregr*gresr)/(dresr*gregr)\n",
        "\n",
        "tr = b1r/np.sqrt(fossr)"
      ],
      "execution_count": null,
      "outputs": []
    },
    {
      "cell_type": "code",
      "metadata": {
        "colab": {
          "base_uri": "https://localhost:8080/"
        },
        "id": "HuoTpg5pn6li",
        "outputId": "ee5a38fd-0de5-4668-ce75-f737feb290a6"
      },
      "source": [
        "tr"
      ],
      "execution_count": null,
      "outputs": [
        {
          "data": {
            "text/plain": [
              "array([0.09804194])"
            ]
          },
          "execution_count": 27,
          "metadata": {},
          "output_type": "execute_result"
        }
      ]
    },
    {
      "cell_type": "code",
      "metadata": {
        "id": "Ey6mecxfyMRx"
      },
      "source": [
        "# Compute the t-test for the not-recommended apps only\n",
        "dregn = sum((yn_pred - yn.mean())**2)\n",
        "gregn = 1\n",
        "\n",
        "dresn = sum((yn - yn_pred)**2)\n",
        "gresn = len(yn)-2\n",
        "\n",
        "fossn = (dregn*gresn)/(dresn*gregn)\n",
        "\n",
        "tn = b1n/np.sqrt(fossn)"
      ],
      "execution_count": null,
      "outputs": []
    },
    {
      "cell_type": "code",
      "metadata": {
        "colab": {
          "base_uri": "https://localhost:8080/"
        },
        "id": "NDerpGnJycTf",
        "outputId": "aecf4952-2639-4495-9ec1-4736c6ee1504"
      },
      "source": [
        "tn"
      ],
      "execution_count": null,
      "outputs": [
        {
          "data": {
            "text/plain": [
              "array([0.27181557])"
            ]
          },
          "execution_count": 29,
          "metadata": {},
          "output_type": "execute_result"
        }
      ]
    },
    {
      "cell_type": "markdown",
      "metadata": {
        "id": "ckc9R24oyrPN"
      },
      "source": [
        "We use the same test in RQ8.2 to test if there is a significant relantionship between weighted vote score and \"totale time\" (difference between timestamp_update and timestamp created expressed into days). We set a confidence level of alpha = 0,05 and we obtain a threshold equal to 1,96 for the t-quantile. As we can see both of the t-test are lower than the threshold: <br/>\n",
        "tr = 0,098 < 1,96 <br/>\n",
        "tn = 0,272 < 1,96 <br/>\n",
        "so we can accept the null hypothesis for both of the subsets that the coefficient value is significantly equal to 0. So there is no significative linear relation between the two variables considering also only recommended app or not-recommended. "
      ]
    },
    {
      "cell_type": "markdown",
      "metadata": {
        "id": "OJVbHqjc2G9I"
      },
      "source": [
        "## REQ 8.4"
      ]
    },
    {
      "cell_type": "markdown",
      "metadata": {
        "id": "vFx9q_0l2KnO"
      },
      "source": [
        "What are histograms, bar plots, scatterplots and pie charts used for? <br/>\n",
        "\n",
        "Histograms are used to represent discrete or continous quantitative variables; the data are represented in intervals that they don't necessarily have to be of the same width. They're often useful when dealing with large datasets. The bar height represent the density (or frequency) of the classes represented. <br/>\n",
        "\n",
        "Bar Plot are used to represent discrete quantitative variables or qualitative variables. Each bar corresponds to a categorical value of the variable that we are representing. The height of the bar represents the absolute or relative frequency of the categorical value in the dataset. <br/>\n",
        "\n",
        "Scatterplots are used to represent quantitative variables in order to show a significative relation between two variable. The variables are represented in a two dimensional space (cartesian space) where each axis is assigned to one of the two variables. Each unit is represented by a point in the space. This plot is useful to see a correlation between the two variables. <br/>\n",
        "\n",
        "Pie charts are used to represent quantitative discrete variables or qualitative variables and are useful to show the composition of the categorical values for a variable. "
      ]
    },
    {
      "cell_type": "markdown",
      "metadata": {
        "id": "YYTdnR8t5tzv"
      },
      "source": [
        "## REQ 8.5"
      ]
    },
    {
      "cell_type": "markdown",
      "metadata": {
        "id": "GxQYGK2f5xUZ"
      },
      "source": [
        "What insights can you extract from a Box Plot? <br/>\n",
        "\n",
        "Boxplots are useful to represent a single quantitative variable and describes its distribution with statistical summaries. <br/>\n",
        "Boxplots can show median (or mean, depends on the boxplot type we are creating), quartiles (1° and 3°), interquartile range, minimum and maximum of distribution and also outliers. "
      ]
    },
    {
      "cell_type": "markdown",
      "metadata": {
        "id": "lOyj_Un3XF_w"
      },
      "source": [
        "# Theoretical Questions"
      ]
    },
    {
      "cell_type": "markdown",
      "metadata": {
        "id": "bLbZgFQkfZag"
      },
      "source": [
        "## REQ 1"
      ]
    },
    {
      "cell_type": "markdown",
      "metadata": {
        "id": "s5vR-29wXJIK"
      },
      "source": [
        "```\n",
        "Input\n",
        "    A: array of length n\n",
        "    k: integers between 1 and n\n",
        "function alg(A, k):\n",
        "  s <-- a random element of A\n",
        "  set L = [all the elements of A with value <= s]\n",
        "  set R = [all the elements of A with value > s]\n",
        "  r = len(L)\n",
        "  if k == r:\n",
        "    return s\n",
        "  else if k < r:  \n",
        "    return alg(L, k)\n",
        "  else:\n",
        "    return alg(R, k - r)\n",
        "```"
      ]
    },
    {
      "cell_type": "markdown",
      "metadata": {
        "id": "i-Tio2ZTZp9a"
      },
      "source": [
        "**1. What does the algorithm compute?**\n",
        "\n",
        "This algorithm returns the k-th largest element of A\n",
        "\n",
        "**2. What is asymptotically (i.e., we are asking for big-O complexity) the running time of the algorithm in the worst case, as a function of n**\n",
        "\n",
        "The worst case is when I have an ordered list, there are no repeated elements, s is the second largest element in the list and k = 1.\n",
        "Analyzing the complexity of each row:\n",
        "- The assigment of s is O(1)\n",
        "- The assigment of L has cost O(n) because it iterates each element of A  \n",
        "- The assigment of R has cost O(n) for the same reason\n",
        "- The remaining instructions have constant complexity (apart from the recursive calls)\n",
        "\n",
        "Since each time s is the second largest number of the list, we are going to call the recursion with a list with size (n-1), so the cost is $4 * (n + (n-1) + (n-2) + ... + 2 + 1) \\rightarrow n^2$.\n",
        "\n",
        "However, in some cases the algorithm could not ends: for example, if we have an ordered list, k = 1 and we always draw the same s, the algorithm goes into a loop because the list stays always the same.\n",
        "\n",
        "**3. What is asymptotically the running time of the algorithm in the best case?**\n",
        "\n",
        "One of the best cases is when we have an ordered list, s is going to be the maximum number and we have k which is the index of the last element of the list.\n",
        "In this case, the complexity is $O(n) + O(n) + 4 \\rightarrow O(n)$."
      ]
    },
    {
      "cell_type": "markdown",
      "metadata": {
        "id": "hzp6fY0qfPaU"
      },
      "source": [
        "## REQ 2"
      ]
    },
    {
      "cell_type": "markdown",
      "metadata": {
        "id": "TgaOl6BGmEHv"
      },
      "source": [
        "\n",
        "```\n",
        "function splitSwap(a, l, n):\n",
        "  if n <= 1:\n",
        "    return\n",
        "  splitSwap(a, l, n/2)\n",
        "  splitSwap(a, l+ n /2, n/2)\n",
        "  swapList(a, l, n)\n",
        "```\n",
        "\n",
        "```\n",
        "function swapList(a, l, n):\n",
        "  for i = 0 to n/2:\n",
        "    tmp = a[l + i]\n",
        "    a[l + i] = a[l + n/2 + i]\n",
        "    a[l + n/2 + i] = tmp\n",
        "```\n",
        "\n"
      ]
    },
    {
      "cell_type": "markdown",
      "metadata": {
        "id": "DwaFHQ_OjwCM"
      },
      "source": [
        "1. How much running time does it take to execute splitSwap(a, 0, n)? \n",
        "\n",
        "\\begin{align}\n",
        "        \\text{T}(n) = \\left\\{\n",
        "        \\begin{array}{cl}\n",
        "        2& n \\le 1 \\\\\n",
        "        T(\\frac{n}{2}) + T(\\frac{n}{2}) + 4\\frac{n}{2} + 1 & otherwise\n",
        "        \\end{array}\n",
        "        \\right.\n",
        "    \\end{align} \n",
        "    \n",
        "The first term, T($\\frac{n}{2}$), represents the first recursive call (i.e. `splitSwap(a, l, n/2)`), its cost is $\\frac{n}{2}$ since it is called only on half array.\n",
        "\n",
        "Instead, the second term, T($\\frac{n}{2}$), represents the second recursive call (i.e. `splitSwap(a, l+ n /2, n/2)`), its cost is again $\\frac{n}{2}$ since it is called on the second half of the array.\n",
        "\n",
        "While, the last term, $\\frac{n}{2}$, is the cost for the call to the `swapList` function due to the `for i = 1 to n/2`. <br/>\n",
        "Now we solve $T(n)$:<br/>\n",
        "$\\begin{align}\n",
        "T(n) &= T(\\frac{n}{2}) + T(\\frac{n}{2}) + (\\frac{4n}{2}) + 1 \\\\ \n",
        "& = 2T(\\frac{n}{2}) + (\\frac{4n}{2}) \\\\\n",
        "&\\leq 4T(\\frac{n}{4}) + 8(\\frac{n}{4})  + (\\frac{4n}{2}) \\\\\n",
        "&\\leq 8T(\\frac{n}{8}) + (\\frac{16n}{8}) + 8(\\frac{n}{4})  + (\\frac{4n}{2}) \\\\\n",
        "&\\leq 8T(\\frac{n}{8}) + 2n +2n +2n \\\\\n",
        "&\\leq 2^kT(\\frac{n}{2^k}) + 6n \\\\\n",
        "&2^{log(n)} + nlog(n)\n",
        "\\end{align}$\n",
        "\n",
        "$2^{log(n)}$ is equal to 2 to the power of the number of times that we call the recursion , while $nlog(n)$ is equal to 2 times the number of times that we call the recursion.\n",
        "Comparing the two terms we can deduce that $nlog(n)$ grows faster than $2^{log(n)}$, so the final complexity is $O(nlog(n))$."
      ]
    },
    {
      "cell_type": "markdown",
      "metadata": {
        "id": "sxQyi_JtsOF3"
      },
      "source": [
        "2. What does this algorithm do? Is it optimal? Describe the mechanism of the algorithm in details, we do not want to know only its final result.\n",
        "\n",
        "  *   What does this algorithm do?<br/>\n",
        "  It skips the first $l$ elements and inverts the next $n$ elements of the list\n",
        "\n",
        "  * Is it optimal?<br/>\n",
        "  No, it is not optimal, because it can be done in $O(n)$. In the following list are reported the details of the algorithm: \n",
        "\n",
        "    - create a new list which contains the elements which are to be skipped \n",
        "    - starting from the $(l+n)$-th element, iterate backwards till $l$ (for i=l+n to l) and add the element a[i] to the new list\n",
        "    - add the remaining elements\n",
        "\n",
        "  * **Describe the mechanism of the algorithm in details**<br/>\n",
        "    We describe the algorithm using the example of an execution.<br/>\n",
        "    If we have:<br/>\n",
        "    $a=[1,2,3,4]$,<br/>\n",
        "    $l= 0$,<br/>\n",
        "    $n=4$.<br/>\n",
        "So we call the function with $(a,0,4)$.<br/>\n",
        "    At the beginning $n$ is greater than 1 so the algorithm does not exit, so the recursion will be called with $(a,0,2)$ until $n = 1$ (see the tree for all the details of the recursive calls), then when it returns to the parent function it will have $n=2$ and the function swaplist will be called.<br/>\n",
        "  SwapList receives three parameters as input: <br/>\n",
        "  • $a$ is list <br/>\n",
        "  • $l$ an index <br/>\n",
        "  • $n$ number between 1 and length of $a$ <br/>\n",
        "  Below are all the steps that the algorithm performs.\n",
        "  Looking at the tree (first drawing above), we have that the red arrows indicate the recursive calls that call the swaplist function.\n",
        "  Recursion works from bottom to top, so the first call to execute the swaplist function wil be the case with $(a, 0, 2)$ where the algorithm will do a single iteration and swap the first element with the second so $a$ will change like this:<br/>\n",
        "  $a = [2,1,3,4]$<br/>\n",
        "  Then the second call will also do a single iteration with $(a, 2,2)$ it will swap the third and fourth elements, so \"a\" becomes<br/>\n",
        "  $a = [2,1,4,3]$<br/>\n",
        "  Then the last call instead will do 2 iterations, where in the first it swap the first with the third and in the second iteration it swap the second with the fourth so $a$ becomes<br/>\n",
        "  $a = [4,3,2,1]$<br/>\n",
        "The last drawing (below) shows how the list is modified, the drawing must be read from bottom to top, so first the circle is number 1 then 2, and then 3.<br/>\n",
        "![image.png](data:image/png;base64,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)"
      ]
    },
    {
      "cell_type": "markdown",
      "metadata": {
        "id": "H5AU-aDh0m1A"
      },
      "source": [
        "## REQ 3"
      ]
    },
    {
      "cell_type": "markdown",
      "metadata": {
        "id": "xnQZY_Tr0p-5"
      },
      "source": [
        "This is the list that we will use for all 3 counterexamples:\n",
        "\n",
        "$V = [ (1,1) , (6,4) , (18,5) , (22,5), (28,7) ]$\n",
        "\n",
        "where each element in the list is a tuple where the first element is the value and the second one is the weight.\n",
        "\n",
        "  * **Order them in increasing order of weight and then visit them sequentially, adding them to the solution as long as the budget is not exceeded**\n",
        "    * $V = [ (1,1) , (6,4) , (18,5) , (22,5), (28,7) ]$<br/>\n",
        "    If we have $W = 11$, we can only take the first 3 elements in the list and we obtain 25 as final value, but the optimal value is 40 if we take $(18,5)$ and $(22,5)$.\n",
        "  * **Order them in decreasing order of values, and then visit them sequentially, adding them to the solution if the budget is not exceeded**\n",
        "    * $V = [(28, 7), (22, 5), (18, 5), (6, 4), (1, 1)]$<br/>\n",
        "    If we have $W = 11$, we can only take the first element in the list and we obtain 28 as final value, but the optimal value, as said before, is 40 if we take $(18,5)$ and $(22,5)$\n",
        "  * **Order them in decreasing relative value (v_i / w_i), and then visit them sequentially, adding them to the solution if the budget is not exceeded**\n",
        "    * $V = [(28, 7), (22, 5), (18, 5), (6, 4), (1, 1)]$<br/>\n",
        "    If we have $W = 11$, we can only take the first element in the list and we obtain 28 as final value, but the optimal value, once again, is 40 if we take $(18,5)$ and $(22,5)$\n",
        "\n"
      ]
    }
  ]
}